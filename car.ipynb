{
 "cells": [
  {
   "attachments": {},
   "cell_type": "markdown",
   "metadata": {},
   "source": [
    "Car Price Predictor "
   ]
  },
  {
   "cell_type": "code",
   "execution_count": 1,
   "metadata": {},
   "outputs": [],
   "source": [
    "import numpy as np\n",
    "import pandas as pd\n",
    "import matplotlib.pyplot as plt\n",
    "import seaborn as sbn"
   ]
  },
  {
   "cell_type": "code",
   "execution_count": 3,
   "metadata": {},
   "outputs": [],
   "source": [
    "dataFrame = pd.read_excel(\"merc.xlsx\")"
   ]
  },
  {
   "cell_type": "code",
   "execution_count": 4,
   "metadata": {},
   "outputs": [
    {
     "data": {
      "text/html": [
       "<div>\n",
       "<style scoped>\n",
       "    .dataframe tbody tr th:only-of-type {\n",
       "        vertical-align: middle;\n",
       "    }\n",
       "\n",
       "    .dataframe tbody tr th {\n",
       "        vertical-align: top;\n",
       "    }\n",
       "\n",
       "    .dataframe thead th {\n",
       "        text-align: right;\n",
       "    }\n",
       "</style>\n",
       "<table border=\"1\" class=\"dataframe\">\n",
       "  <thead>\n",
       "    <tr style=\"text-align: right;\">\n",
       "      <th></th>\n",
       "      <th>year</th>\n",
       "      <th>price</th>\n",
       "      <th>transmission</th>\n",
       "      <th>mileage</th>\n",
       "      <th>tax</th>\n",
       "      <th>mpg</th>\n",
       "      <th>engineSize</th>\n",
       "    </tr>\n",
       "  </thead>\n",
       "  <tbody>\n",
       "    <tr>\n",
       "      <th>0</th>\n",
       "      <td>2005</td>\n",
       "      <td>5200</td>\n",
       "      <td>Automatic</td>\n",
       "      <td>63000</td>\n",
       "      <td>325</td>\n",
       "      <td>32.1</td>\n",
       "      <td>1.8</td>\n",
       "    </tr>\n",
       "    <tr>\n",
       "      <th>1</th>\n",
       "      <td>2017</td>\n",
       "      <td>34948</td>\n",
       "      <td>Automatic</td>\n",
       "      <td>27000</td>\n",
       "      <td>20</td>\n",
       "      <td>61.4</td>\n",
       "      <td>2.1</td>\n",
       "    </tr>\n",
       "    <tr>\n",
       "      <th>2</th>\n",
       "      <td>2016</td>\n",
       "      <td>49948</td>\n",
       "      <td>Automatic</td>\n",
       "      <td>6200</td>\n",
       "      <td>555</td>\n",
       "      <td>28.0</td>\n",
       "      <td>5.5</td>\n",
       "    </tr>\n",
       "    <tr>\n",
       "      <th>3</th>\n",
       "      <td>2016</td>\n",
       "      <td>61948</td>\n",
       "      <td>Automatic</td>\n",
       "      <td>16000</td>\n",
       "      <td>325</td>\n",
       "      <td>30.4</td>\n",
       "      <td>4.0</td>\n",
       "    </tr>\n",
       "    <tr>\n",
       "      <th>4</th>\n",
       "      <td>2016</td>\n",
       "      <td>73948</td>\n",
       "      <td>Automatic</td>\n",
       "      <td>4000</td>\n",
       "      <td>325</td>\n",
       "      <td>30.1</td>\n",
       "      <td>4.0</td>\n",
       "    </tr>\n",
       "  </tbody>\n",
       "</table>\n",
       "</div>"
      ],
      "text/plain": [
       "   year  price transmission  mileage  tax   mpg  engineSize\n",
       "0  2005   5200    Automatic    63000  325  32.1         1.8\n",
       "1  2017  34948    Automatic    27000   20  61.4         2.1\n",
       "2  2016  49948    Automatic     6200  555  28.0         5.5\n",
       "3  2016  61948    Automatic    16000  325  30.4         4.0\n",
       "4  2016  73948    Automatic     4000  325  30.1         4.0"
      ]
     },
     "execution_count": 4,
     "metadata": {},
     "output_type": "execute_result"
    }
   ],
   "source": [
    "dataFrame.head()"
   ]
  },
  {
   "cell_type": "code",
   "execution_count": 5,
   "metadata": {},
   "outputs": [
    {
     "data": {
      "text/html": [
       "<div>\n",
       "<style scoped>\n",
       "    .dataframe tbody tr th:only-of-type {\n",
       "        vertical-align: middle;\n",
       "    }\n",
       "\n",
       "    .dataframe tbody tr th {\n",
       "        vertical-align: top;\n",
       "    }\n",
       "\n",
       "    .dataframe thead th {\n",
       "        text-align: right;\n",
       "    }\n",
       "</style>\n",
       "<table border=\"1\" class=\"dataframe\">\n",
       "  <thead>\n",
       "    <tr style=\"text-align: right;\">\n",
       "      <th></th>\n",
       "      <th>year</th>\n",
       "      <th>price</th>\n",
       "      <th>mileage</th>\n",
       "      <th>tax</th>\n",
       "      <th>mpg</th>\n",
       "      <th>engineSize</th>\n",
       "    </tr>\n",
       "  </thead>\n",
       "  <tbody>\n",
       "    <tr>\n",
       "      <th>count</th>\n",
       "      <td>13119.000000</td>\n",
       "      <td>13119.000000</td>\n",
       "      <td>13119.000000</td>\n",
       "      <td>13119.000000</td>\n",
       "      <td>13119.000000</td>\n",
       "      <td>13119.000000</td>\n",
       "    </tr>\n",
       "    <tr>\n",
       "      <th>mean</th>\n",
       "      <td>2017.296288</td>\n",
       "      <td>24698.596920</td>\n",
       "      <td>21949.559037</td>\n",
       "      <td>129.972178</td>\n",
       "      <td>55.155843</td>\n",
       "      <td>2.071530</td>\n",
       "    </tr>\n",
       "    <tr>\n",
       "      <th>std</th>\n",
       "      <td>2.224709</td>\n",
       "      <td>11842.675542</td>\n",
       "      <td>21176.512267</td>\n",
       "      <td>65.260286</td>\n",
       "      <td>15.220082</td>\n",
       "      <td>0.572426</td>\n",
       "    </tr>\n",
       "    <tr>\n",
       "      <th>min</th>\n",
       "      <td>1970.000000</td>\n",
       "      <td>650.000000</td>\n",
       "      <td>1.000000</td>\n",
       "      <td>0.000000</td>\n",
       "      <td>1.100000</td>\n",
       "      <td>0.000000</td>\n",
       "    </tr>\n",
       "    <tr>\n",
       "      <th>25%</th>\n",
       "      <td>2016.000000</td>\n",
       "      <td>17450.000000</td>\n",
       "      <td>6097.500000</td>\n",
       "      <td>125.000000</td>\n",
       "      <td>45.600000</td>\n",
       "      <td>1.800000</td>\n",
       "    </tr>\n",
       "    <tr>\n",
       "      <th>50%</th>\n",
       "      <td>2018.000000</td>\n",
       "      <td>22480.000000</td>\n",
       "      <td>15189.000000</td>\n",
       "      <td>145.000000</td>\n",
       "      <td>56.500000</td>\n",
       "      <td>2.000000</td>\n",
       "    </tr>\n",
       "    <tr>\n",
       "      <th>75%</th>\n",
       "      <td>2019.000000</td>\n",
       "      <td>28980.000000</td>\n",
       "      <td>31779.500000</td>\n",
       "      <td>145.000000</td>\n",
       "      <td>64.200000</td>\n",
       "      <td>2.100000</td>\n",
       "    </tr>\n",
       "    <tr>\n",
       "      <th>max</th>\n",
       "      <td>2020.000000</td>\n",
       "      <td>159999.000000</td>\n",
       "      <td>259000.000000</td>\n",
       "      <td>580.000000</td>\n",
       "      <td>217.300000</td>\n",
       "      <td>6.200000</td>\n",
       "    </tr>\n",
       "  </tbody>\n",
       "</table>\n",
       "</div>"
      ],
      "text/plain": [
       "               year          price        mileage           tax           mpg  \\\n",
       "count  13119.000000   13119.000000   13119.000000  13119.000000  13119.000000   \n",
       "mean    2017.296288   24698.596920   21949.559037    129.972178     55.155843   \n",
       "std        2.224709   11842.675542   21176.512267     65.260286     15.220082   \n",
       "min     1970.000000     650.000000       1.000000      0.000000      1.100000   \n",
       "25%     2016.000000   17450.000000    6097.500000    125.000000     45.600000   \n",
       "50%     2018.000000   22480.000000   15189.000000    145.000000     56.500000   \n",
       "75%     2019.000000   28980.000000   31779.500000    145.000000     64.200000   \n",
       "max     2020.000000  159999.000000  259000.000000    580.000000    217.300000   \n",
       "\n",
       "         engineSize  \n",
       "count  13119.000000  \n",
       "mean       2.071530  \n",
       "std        0.572426  \n",
       "min        0.000000  \n",
       "25%        1.800000  \n",
       "50%        2.000000  \n",
       "75%        2.100000  \n",
       "max        6.200000  "
      ]
     },
     "execution_count": 5,
     "metadata": {},
     "output_type": "execute_result"
    }
   ],
   "source": [
    "dataFrame.describe()"
   ]
  },
  {
   "cell_type": "code",
   "execution_count": 6,
   "metadata": {},
   "outputs": [
    {
     "data": {
      "text/plain": [
       "year            0\n",
       "price           0\n",
       "transmission    0\n",
       "mileage         0\n",
       "tax             0\n",
       "mpg             0\n",
       "engineSize      0\n",
       "dtype: int64"
      ]
     },
     "execution_count": 6,
     "metadata": {},
     "output_type": "execute_result"
    }
   ],
   "source": [
    "dataFrame.isnull().sum() #boş değer olan yer var mı kontrol ediyoruz"
   ]
  },
  {
   "cell_type": "code",
   "execution_count": 7,
   "metadata": {},
   "outputs": [
    {
     "name": "stderr",
     "output_type": "stream",
     "text": [
      "C:\\Users\\harig\\AppData\\Local\\Temp\\ipykernel_6296\\2906993258.py:2: UserWarning: \n",
      "\n",
      "`distplot` is a deprecated function and will be removed in seaborn v0.14.0.\n",
      "\n",
      "Please adapt your code to use either `displot` (a figure-level function with\n",
      "similar flexibility) or `histplot` (an axes-level function for histograms).\n",
      "\n",
      "For a guide to updating your code to use the new functions, please see\n",
      "https://gist.github.com/mwaskom/de44147ed2974457ad6372750bbe5751\n",
      "\n",
      "  sbn.distplot(dataFrame[\"price\"])\n"
     ]
    },
    {
     "data": {
      "text/plain": [
       "<AxesSubplot: xlabel='price', ylabel='Density'>"
      ]
     },
     "execution_count": 7,
     "metadata": {},
     "output_type": "execute_result"
    },
    {
     "data": {
      "image/png": "[encoded data removed]",
      "text/plain": [
       "<Figure size 700x500 with 1 Axes>"
      ]
     },
     "metadata": {},
     "output_type": "display_data"
    }
   ],
   "source": [
    "plt.figure(figsize=(7,5))#Grafiğin boyutunu büyüttük\n",
    "sbn.distplot(dataFrame[\"price\"])"
   ]
  },
  {
   "cell_type": "code",
   "execution_count": 8,
   "metadata": {},
   "outputs": [
    {
     "data": {
      "text/plain": [
       "<AxesSubplot: ylabel='count'>"
      ]
     },
     "execution_count": 8,
     "metadata": {},
     "output_type": "execute_result"
    },
    {
     "data": {
      "image/png": "[encoded data removed]",
      "text/plain": [
       "<Figure size 640x480 with 1 Axes>"
      ]
     },
     "metadata": {},
     "output_type": "display_data"
    }
   ],
   "source": [
    "\n",
    "\n",
    "sbn.countplot(dataFrame[\"year\"])\n"
   ]
  },
  {
   "cell_type": "code",
   "execution_count": 10,
   "metadata": {},
   "outputs": [
    {
     "name": "stderr",
     "output_type": "stream",
     "text": [
      "C:\\Users\\harig\\AppData\\Local\\Temp\\ipykernel_6296\\3949281981.py:1: FutureWarning: The default value of numeric_only in DataFrame.corr is deprecated. In a future version, it will default to False. Select only valid columns or specify the value of numeric_only to silence this warning.\n",
      "  dataFrame.corr() #to see the correlation-relationship between features\n"
     ]
    },
    {
     "data": {
      "text/html": [
       "<div>\n",
       "<style scoped>\n",
       "    .dataframe tbody tr th:only-of-type {\n",
       "        vertical-align: middle;\n",
       "    }\n",
       "\n",
       "    .dataframe tbody tr th {\n",
       "        vertical-align: top;\n",
       "    }\n",
       "\n",
       "    .dataframe thead th {\n",
       "        text-align: right;\n",
       "    }\n",
       "</style>\n",
       "<table border=\"1\" class=\"dataframe\">\n",
       "  <thead>\n",
       "    <tr style=\"text-align: right;\">\n",
       "      <th></th>\n",
       "      <th>year</th>\n",
       "      <th>price</th>\n",
       "      <th>mileage</th>\n",
       "      <th>tax</th>\n",
       "      <th>mpg</th>\n",
       "      <th>engineSize</th>\n",
       "    </tr>\n",
       "  </thead>\n",
       "  <tbody>\n",
       "    <tr>\n",
       "      <th>year</th>\n",
       "      <td>1.000000</td>\n",
       "      <td>0.520712</td>\n",
       "      <td>-0.738027</td>\n",
       "      <td>0.012480</td>\n",
       "      <td>-0.094626</td>\n",
       "      <td>-0.142147</td>\n",
       "    </tr>\n",
       "    <tr>\n",
       "      <th>price</th>\n",
       "      <td>0.520712</td>\n",
       "      <td>1.000000</td>\n",
       "      <td>-0.537214</td>\n",
       "      <td>0.268717</td>\n",
       "      <td>-0.438445</td>\n",
       "      <td>0.516126</td>\n",
       "    </tr>\n",
       "    <tr>\n",
       "      <th>mileage</th>\n",
       "      <td>-0.738027</td>\n",
       "      <td>-0.537214</td>\n",
       "      <td>1.000000</td>\n",
       "      <td>-0.160223</td>\n",
       "      <td>0.202850</td>\n",
       "      <td>0.063652</td>\n",
       "    </tr>\n",
       "    <tr>\n",
       "      <th>tax</th>\n",
       "      <td>0.012480</td>\n",
       "      <td>0.268717</td>\n",
       "      <td>-0.160223</td>\n",
       "      <td>1.000000</td>\n",
       "      <td>-0.513742</td>\n",
       "      <td>0.338341</td>\n",
       "    </tr>\n",
       "    <tr>\n",
       "      <th>mpg</th>\n",
       "      <td>-0.094626</td>\n",
       "      <td>-0.438445</td>\n",
       "      <td>0.202850</td>\n",
       "      <td>-0.513742</td>\n",
       "      <td>1.000000</td>\n",
       "      <td>-0.339862</td>\n",
       "    </tr>\n",
       "    <tr>\n",
       "      <th>engineSize</th>\n",
       "      <td>-0.142147</td>\n",
       "      <td>0.516126</td>\n",
       "      <td>0.063652</td>\n",
       "      <td>0.338341</td>\n",
       "      <td>-0.339862</td>\n",
       "      <td>1.000000</td>\n",
       "    </tr>\n",
       "  </tbody>\n",
       "</table>\n",
       "</div>"
      ],
      "text/plain": [
       "                year     price   mileage       tax       mpg  engineSize\n",
       "year        1.000000  0.520712 -0.738027  0.012480 -0.094626   -0.142147\n",
       "price       0.520712  1.000000 -0.537214  0.268717 -0.438445    0.516126\n",
       "mileage    -0.738027 -0.537214  1.000000 -0.160223  0.202850    0.063652\n",
       "tax         0.012480  0.268717 -0.160223  1.000000 -0.513742    0.338341\n",
       "mpg        -0.094626 -0.438445  0.202850 -0.513742  1.000000   -0.339862\n",
       "engineSize -0.142147  0.516126  0.063652  0.338341 -0.339862    1.000000"
      ]
     },
     "execution_count": 10,
     "metadata": {},
     "output_type": "execute_result"
    }
   ],
   "source": [
    "dataFrame.corr() #to see the correlation-relationship between features\n",
    "\n"
   ]
  },
  {
   "cell_type": "code",
   "execution_count": 12,
   "metadata": {},
   "outputs": [
    {
     "name": "stderr",
     "output_type": "stream",
     "text": [
      "C:\\Users\\harig\\AppData\\Local\\Temp\\ipykernel_6296\\1042655074.py:1: FutureWarning: The default value of numeric_only in DataFrame.corr is deprecated. In a future version, it will default to False. Select only valid columns or specify the value of numeric_only to silence this warning.\n",
      "  dataFrame.corr()[\"price\"].sort_values() #we just took the relations with the others for price and showed them in order\n"
     ]
    },
    {
     "data": {
      "text/plain": [
       "mileage      -0.537214\n",
       "mpg          -0.438445\n",
       "tax           0.268717\n",
       "engineSize    0.516126\n",
       "year          0.520712\n",
       "price         1.000000\n",
       "Name: price, dtype: float64"
      ]
     },
     "execution_count": 12,
     "metadata": {},
     "output_type": "execute_result"
    }
   ],
   "source": [
    "dataFrame.corr()[\"price\"].sort_values() #we just took the relations with the others for price and showed them in order"
   ]
  },
  {
   "cell_type": "code",
   "execution_count": 13,
   "metadata": {},
   "outputs": [
    {
     "data": {
      "text/plain": [
       "<AxesSubplot: xlabel='mileage', ylabel='price'>"
      ]
     },
     "execution_count": 13,
     "metadata": {},
     "output_type": "execute_result"
    },
    {
     "data": {
      "image/png": "[encoded data removed]",
      "text/plain": [
       "<Figure size 640x480 with 1 Axes>"
      ]
     },
     "metadata": {},
     "output_type": "display_data"
    }
   ],
   "source": [
    "sbn.scatterplot(x=\"mileage\",y=\"price\",data=dataFrame) #We plotted the price of the vehicle according to the kilometer. every feature can be tested\n",
    "\n"
   ]
  },
  {
   "cell_type": "code",
   "execution_count": 14,
   "metadata": {},
   "outputs": [
    {
     "data": {
      "text/html": [
       "<div>\n",
       "<style scoped>\n",
       "    .dataframe tbody tr th:only-of-type {\n",
       "        vertical-align: middle;\n",
       "    }\n",
       "\n",
       "    .dataframe tbody tr th {\n",
       "        vertical-align: top;\n",
       "    }\n",
       "\n",
       "    .dataframe thead th {\n",
       "        text-align: right;\n",
       "    }\n",
       "</style>\n",
       "<table border=\"1\" class=\"dataframe\">\n",
       "  <thead>\n",
       "    <tr style=\"text-align: right;\">\n",
       "      <th></th>\n",
       "      <th>year</th>\n",
       "      <th>price</th>\n",
       "      <th>transmission</th>\n",
       "      <th>mileage</th>\n",
       "      <th>tax</th>\n",
       "      <th>mpg</th>\n",
       "      <th>engineSize</th>\n",
       "    </tr>\n",
       "  </thead>\n",
       "  <tbody>\n",
       "    <tr>\n",
       "      <th>6199</th>\n",
       "      <td>2020</td>\n",
       "      <td>159999</td>\n",
       "      <td>Semi-Auto</td>\n",
       "      <td>1350</td>\n",
       "      <td>145</td>\n",
       "      <td>21.4</td>\n",
       "      <td>4.0</td>\n",
       "    </tr>\n",
       "    <tr>\n",
       "      <th>10044</th>\n",
       "      <td>2020</td>\n",
       "      <td>154998</td>\n",
       "      <td>Automatic</td>\n",
       "      <td>3000</td>\n",
       "      <td>150</td>\n",
       "      <td>21.4</td>\n",
       "      <td>4.0</td>\n",
       "    </tr>\n",
       "    <tr>\n",
       "      <th>5</th>\n",
       "      <td>2011</td>\n",
       "      <td>149948</td>\n",
       "      <td>Automatic</td>\n",
       "      <td>3000</td>\n",
       "      <td>570</td>\n",
       "      <td>21.4</td>\n",
       "      <td>6.2</td>\n",
       "    </tr>\n",
       "    <tr>\n",
       "      <th>8737</th>\n",
       "      <td>2019</td>\n",
       "      <td>140319</td>\n",
       "      <td>Semi-Auto</td>\n",
       "      <td>785</td>\n",
       "      <td>150</td>\n",
       "      <td>22.1</td>\n",
       "      <td>4.0</td>\n",
       "    </tr>\n",
       "    <tr>\n",
       "      <th>6386</th>\n",
       "      <td>2018</td>\n",
       "      <td>139995</td>\n",
       "      <td>Semi-Auto</td>\n",
       "      <td>13046</td>\n",
       "      <td>145</td>\n",
       "      <td>21.4</td>\n",
       "      <td>4.0</td>\n",
       "    </tr>\n",
       "    <tr>\n",
       "      <th>8</th>\n",
       "      <td>2019</td>\n",
       "      <td>139948</td>\n",
       "      <td>Automatic</td>\n",
       "      <td>12000</td>\n",
       "      <td>145</td>\n",
       "      <td>21.4</td>\n",
       "      <td>4.0</td>\n",
       "    </tr>\n",
       "    <tr>\n",
       "      <th>9133</th>\n",
       "      <td>2019</td>\n",
       "      <td>139559</td>\n",
       "      <td>Semi-Auto</td>\n",
       "      <td>1000</td>\n",
       "      <td>145</td>\n",
       "      <td>22.1</td>\n",
       "      <td>4.0</td>\n",
       "    </tr>\n",
       "    <tr>\n",
       "      <th>8821</th>\n",
       "      <td>2020</td>\n",
       "      <td>138439</td>\n",
       "      <td>Semi-Auto</td>\n",
       "      <td>1000</td>\n",
       "      <td>145</td>\n",
       "      <td>22.1</td>\n",
       "      <td>4.0</td>\n",
       "    </tr>\n",
       "    <tr>\n",
       "      <th>5902</th>\n",
       "      <td>2018</td>\n",
       "      <td>135771</td>\n",
       "      <td>Semi-Auto</td>\n",
       "      <td>19000</td>\n",
       "      <td>145</td>\n",
       "      <td>21.4</td>\n",
       "      <td>4.0</td>\n",
       "    </tr>\n",
       "    <tr>\n",
       "      <th>7864</th>\n",
       "      <td>2018</td>\n",
       "      <td>135124</td>\n",
       "      <td>Semi-Auto</td>\n",
       "      <td>18234</td>\n",
       "      <td>150</td>\n",
       "      <td>21.4</td>\n",
       "      <td>4.0</td>\n",
       "    </tr>\n",
       "  </tbody>\n",
       "</table>\n",
       "</div>"
      ],
      "text/plain": [
       "       year   price transmission  mileage  tax   mpg  engineSize\n",
       "6199   2020  159999    Semi-Auto     1350  145  21.4         4.0\n",
       "10044  2020  154998    Automatic     3000  150  21.4         4.0\n",
       "5      2011  149948    Automatic     3000  570  21.4         6.2\n",
       "8737   2019  140319    Semi-Auto      785  150  22.1         4.0\n",
       "6386   2018  139995    Semi-Auto    13046  145  21.4         4.0\n",
       "8      2019  139948    Automatic    12000  145  21.4         4.0\n",
       "9133   2019  139559    Semi-Auto     1000  145  22.1         4.0\n",
       "8821   2020  138439    Semi-Auto     1000  145  22.1         4.0\n",
       "5902   2018  135771    Semi-Auto    19000  145  21.4         4.0\n",
       "7864   2018  135124    Semi-Auto    18234  150  21.4         4.0"
      ]
     },
     "execution_count": 14,
     "metadata": {},
     "output_type": "execute_result"
    }
   ],
   "source": [
    "dataFrame.sort_values(\"price\",ascending=False).head(10)"
   ]
  },
  {
   "attachments": {},
   "cell_type": "markdown",
   "metadata": {},
   "source": [
    "#we may want to subtract the most expensive cars from the first graph by inference\n",
    "#This can enable us to get a more regular result. just a matter of preference\n",
    "\n"
   ]
  },
  {
   "cell_type": "code",
   "execution_count": 16,
   "metadata": {},
   "outputs": [
    {
     "data": {
      "text/plain": [
       "13119"
      ]
     },
     "execution_count": 16,
     "metadata": {},
     "output_type": "execute_result"
    }
   ],
   "source": [
    "len(dataFrame)"
   ]
  },
  {
   "cell_type": "code",
   "execution_count": 17,
   "metadata": {},
   "outputs": [
    {
     "data": {
      "text/plain": [
       "131.19"
      ]
     },
     "execution_count": 17,
     "metadata": {},
     "output_type": "execute_result"
    }
   ],
   "source": [
    "len(dataFrame)*0.01 #If we take 99% of a data and process it, it will not affect us. Let's throw out the 0.01 most expensive car"
   ]
  },
  {
   "cell_type": "code",
   "execution_count": 18,
   "metadata": {},
   "outputs": [],
   "source": [
    "yuzdeDoksanDokuzDf = dataFrame.sort_values(\"price\",ascending=False).iloc[131:] #iloc[131:] 131 bring the ones after the pearl. iloc is used to get by index"
   ]
  },
  {
   "cell_type": "code",
   "execution_count": 19,
   "metadata": {},
   "outputs": [
    {
     "data": {
      "text/html": [
       "<div>\n",
       "<style scoped>\n",
       "    .dataframe tbody tr th:only-of-type {\n",
       "        vertical-align: middle;\n",
       "    }\n",
       "\n",
       "    .dataframe tbody tr th {\n",
       "        vertical-align: top;\n",
       "    }\n",
       "\n",
       "    .dataframe thead th {\n",
       "        text-align: right;\n",
       "    }\n",
       "</style>\n",
       "<table border=\"1\" class=\"dataframe\">\n",
       "  <thead>\n",
       "    <tr style=\"text-align: right;\">\n",
       "      <th></th>\n",
       "      <th>year</th>\n",
       "      <th>price</th>\n",
       "      <th>mileage</th>\n",
       "      <th>tax</th>\n",
       "      <th>mpg</th>\n",
       "      <th>engineSize</th>\n",
       "    </tr>\n",
       "  </thead>\n",
       "  <tbody>\n",
       "    <tr>\n",
       "      <th>count</th>\n",
       "      <td>12988.000000</td>\n",
       "      <td>12988.000000</td>\n",
       "      <td>12988.000000</td>\n",
       "      <td>12988.000000</td>\n",
       "      <td>12988.000000</td>\n",
       "      <td>12988.000000</td>\n",
       "    </tr>\n",
       "    <tr>\n",
       "      <th>mean</th>\n",
       "      <td>2017.281876</td>\n",
       "      <td>24074.926933</td>\n",
       "      <td>22132.741146</td>\n",
       "      <td>129.689714</td>\n",
       "      <td>55.437142</td>\n",
       "      <td>2.050901</td>\n",
       "    </tr>\n",
       "    <tr>\n",
       "      <th>std</th>\n",
       "      <td>2.228515</td>\n",
       "      <td>9866.224575</td>\n",
       "      <td>21196.776401</td>\n",
       "      <td>65.183076</td>\n",
       "      <td>15.025999</td>\n",
       "      <td>0.532596</td>\n",
       "    </tr>\n",
       "    <tr>\n",
       "      <th>min</th>\n",
       "      <td>1970.000000</td>\n",
       "      <td>650.000000</td>\n",
       "      <td>1.000000</td>\n",
       "      <td>0.000000</td>\n",
       "      <td>1.100000</td>\n",
       "      <td>0.000000</td>\n",
       "    </tr>\n",
       "    <tr>\n",
       "      <th>25%</th>\n",
       "      <td>2016.000000</td>\n",
       "      <td>17357.500000</td>\n",
       "      <td>6322.000000</td>\n",
       "      <td>125.000000</td>\n",
       "      <td>45.600000</td>\n",
       "      <td>1.675000</td>\n",
       "    </tr>\n",
       "    <tr>\n",
       "      <th>50%</th>\n",
       "      <td>2018.000000</td>\n",
       "      <td>22299.000000</td>\n",
       "      <td>15369.500000</td>\n",
       "      <td>145.000000</td>\n",
       "      <td>56.500000</td>\n",
       "      <td>2.000000</td>\n",
       "    </tr>\n",
       "    <tr>\n",
       "      <th>75%</th>\n",
       "      <td>2019.000000</td>\n",
       "      <td>28706.000000</td>\n",
       "      <td>31982.250000</td>\n",
       "      <td>145.000000</td>\n",
       "      <td>64.200000</td>\n",
       "      <td>2.100000</td>\n",
       "    </tr>\n",
       "    <tr>\n",
       "      <th>max</th>\n",
       "      <td>2020.000000</td>\n",
       "      <td>65990.000000</td>\n",
       "      <td>259000.000000</td>\n",
       "      <td>580.000000</td>\n",
       "      <td>217.300000</td>\n",
       "      <td>6.200000</td>\n",
       "    </tr>\n",
       "  </tbody>\n",
       "</table>\n",
       "</div>"
      ],
      "text/plain": [
       "               year         price        mileage           tax           mpg  \\\n",
       "count  12988.000000  12988.000000   12988.000000  12988.000000  12988.000000   \n",
       "mean    2017.281876  24074.926933   22132.741146    129.689714     55.437142   \n",
       "std        2.228515   9866.224575   21196.776401     65.183076     15.025999   \n",
       "min     1970.000000    650.000000       1.000000      0.000000      1.100000   \n",
       "25%     2016.000000  17357.500000    6322.000000    125.000000     45.600000   \n",
       "50%     2018.000000  22299.000000   15369.500000    145.000000     56.500000   \n",
       "75%     2019.000000  28706.000000   31982.250000    145.000000     64.200000   \n",
       "max     2020.000000  65990.000000  259000.000000    580.000000    217.300000   \n",
       "\n",
       "         engineSize  \n",
       "count  12988.000000  \n",
       "mean       2.050901  \n",
       "std        0.532596  \n",
       "min        0.000000  \n",
       "25%        1.675000  \n",
       "50%        2.000000  \n",
       "75%        2.100000  \n",
       "max        6.200000  "
      ]
     },
     "execution_count": 19,
     "metadata": {},
     "output_type": "execute_result"
    }
   ],
   "source": [
    "yuzdeDoksanDokuzDf.describe()"
   ]
  },
  {
   "cell_type": "code",
   "execution_count": 20,
   "metadata": {},
   "outputs": [
    {
     "name": "stderr",
     "output_type": "stream",
     "text": [
      "C:\\Users\\harig\\AppData\\Local\\Temp\\ipykernel_6296\\2095929965.py:2: UserWarning: \n",
      "\n",
      "`distplot` is a deprecated function and will be removed in seaborn v0.14.0.\n",
      "\n",
      "Please adapt your code to use either `displot` (a figure-level function with\n",
      "similar flexibility) or `histplot` (an axes-level function for histograms).\n",
      "\n",
      "For a guide to updating your code to use the new functions, please see\n",
      "https://gist.github.com/mwaskom/de44147ed2974457ad6372750bbe5751\n",
      "\n",
      "  sbn.distplot(yuzdeDoksanDokuzDf[\"price\"])\n"
     ]
    },
    {
     "data": {
      "text/plain": [
       "<AxesSubplot: xlabel='price', ylabel='Density'>"
      ]
     },
     "execution_count": 20,
     "metadata": {},
     "output_type": "execute_result"
    },
    {
     "data": {
      "image/png": "[encoded data removed]",
      "text/plain": [
       "<Figure size 700x500 with 1 Axes>"
      ]
     },
     "metadata": {},
     "output_type": "display_data"
    }
   ],
   "source": [
    "\n",
    "\n",
    "plt.figure(figsize=(7,5))\n",
    "sbn.distplot(yuzdeDoksanDokuzDf[\"price\"])\n",
    "\n"
   ]
  },
  {
   "cell_type": "code",
   "execution_count": 21,
   "metadata": {},
   "outputs": [
    {
     "name": "stderr",
     "output_type": "stream",
     "text": [
      "C:\\Users\\harig\\AppData\\Local\\Temp\\ipykernel_6296\\2092793654.py:1: FutureWarning: The default value of numeric_only in DataFrameGroupBy.mean is deprecated. In a future version, numeric_only will default to False. Either specify numeric_only or select only columns which should be valid for the function.\n",
      "  dataFrame.groupby(\"year\").mean()[\"price\"]\n"
     ]
    },
    {
     "data": {
      "text/plain": [
       "year\n",
       "1970    24999.000000\n",
       "1997     9995.000000\n",
       "1998     8605.000000\n",
       "1999     5995.000000\n",
       "2000     5743.333333\n",
       "2001     4957.900000\n",
       "2002     5820.444444\n",
       "2003     4878.000000\n",
       "2004     4727.615385\n",
       "2005     4426.111111\n",
       "2006     4036.875000\n",
       "2007     5136.045455\n",
       "2008     6967.437500\n",
       "2009     6166.764706\n",
       "2010     8308.473684\n",
       "2011    12624.894737\n",
       "2012    10845.140351\n",
       "2013    11939.842466\n",
       "2014    14042.936864\n",
       "2015    16731.780020\n",
       "2016    19307.892948\n",
       "2017    21514.307854\n",
       "2018    25720.162918\n",
       "2019    31290.020865\n",
       "2020    35433.282337\n",
       "Name: price, dtype: float64"
      ]
     },
     "execution_count": 21,
     "metadata": {},
     "output_type": "execute_result"
    }
   ],
   "source": [
    "dataFrame.groupby(\"year\").mean()[\"price\"]"
   ]
  },
  {
   "cell_type": "code",
   "execution_count": 22,
   "metadata": {},
   "outputs": [
    {
     "name": "stderr",
     "output_type": "stream",
     "text": [
      "C:\\Users\\harig\\AppData\\Local\\Temp\\ipykernel_6296\\3963167876.py:1: FutureWarning: The default value of numeric_only in DataFrameGroupBy.mean is deprecated. In a future version, numeric_only will default to False. Either specify numeric_only or select only columns which should be valid for the function.\n",
      "  yuzdeDoksanDokuzDf.groupby(\"year\").mean()[\"price\"]\n"
     ]
    },
    {
     "data": {
      "text/plain": [
       "year\n",
       "1970    24999.000000\n",
       "1997     9995.000000\n",
       "1998     8605.000000\n",
       "1999     5995.000000\n",
       "2000     5743.333333\n",
       "2001     4957.900000\n",
       "2002     5820.444444\n",
       "2003     4878.000000\n",
       "2004     4727.615385\n",
       "2005     4426.111111\n",
       "2006     4036.875000\n",
       "2007     5136.045455\n",
       "2008     6967.437500\n",
       "2009     6166.764706\n",
       "2010     8308.473684\n",
       "2011     8913.459459\n",
       "2012    10845.140351\n",
       "2013    11939.842466\n",
       "2014    14042.936864\n",
       "2015    16647.822222\n",
       "2016    19223.558943\n",
       "2017    21356.280421\n",
       "2018    24800.844506\n",
       "2019    30289.524832\n",
       "2020    34234.794872\n",
       "Name: price, dtype: float64"
      ]
     },
     "execution_count": 22,
     "metadata": {},
     "output_type": "execute_result"
    }
   ],
   "source": [
    "yuzdeDoksanDokuzDf.groupby(\"year\").mean()[\"price\"]"
   ]
  },
  {
   "cell_type": "code",
   "execution_count": 23,
   "metadata": {},
   "outputs": [
    {
     "name": "stderr",
     "output_type": "stream",
     "text": [
      "C:\\Users\\harig\\AppData\\Local\\Temp\\ipykernel_6296\\3480456695.py:2: FutureWarning: The default value of numeric_only in DataFrameGroupBy.mean is deprecated. In a future version, numeric_only will default to False. Either specify numeric_only or select only columns which should be valid for the function.\n",
      "  dataFrame[dataFrame.year != 1970].groupby(\"year\").mean()[\"price\"] #Looking at the average price over the years, the price in 1970 is\n"
     ]
    },
    {
     "data": {
      "text/plain": [
       "year\n",
       "1997     9995.000000\n",
       "1998     8605.000000\n",
       "1999     5995.000000\n",
       "2000     5743.333333\n",
       "2001     4957.900000\n",
       "2002     5820.444444\n",
       "2003     4878.000000\n",
       "2004     4727.615385\n",
       "2005     4426.111111\n",
       "2006     4036.875000\n",
       "2007     5136.045455\n",
       "2008     6967.437500\n",
       "2009     6166.764706\n",
       "2010     8308.473684\n",
       "2011     8913.459459\n",
       "2012    10845.140351\n",
       "2013    11939.842466\n",
       "2014    14042.936864\n",
       "2015    16647.822222\n",
       "2016    19223.558943\n",
       "2017    21356.280421\n",
       "2018    24800.844506\n",
       "2019    30289.524832\n",
       "2020    34234.794872\n",
       "Name: price, dtype: float64"
      ]
     },
     "execution_count": 23,
     "metadata": {},
     "output_type": "execute_result"
    }
   ],
   "source": [
    "dataFrame =yuzdeDoksanDokuzDf\n",
    "dataFrame[dataFrame.year != 1970].groupby(\"year\").mean()[\"price\"] #Looking at the average price over the years, the price in 1970 is"
   ]
  },
  {
   "cell_type": "code",
   "execution_count": 24,
   "metadata": {},
   "outputs": [],
   "source": [
    "dataFrame = dataFrame[dataFrame.year != 1970] #We take other data other than 1970 and put it in our dataFrame."
   ]
  },
  {
   "cell_type": "code",
   "execution_count": 25,
   "metadata": {},
   "outputs": [
    {
     "name": "stderr",
     "output_type": "stream",
     "text": [
      "C:\\Users\\harig\\AppData\\Local\\Temp\\ipykernel_6296\\2092793654.py:1: FutureWarning: The default value of numeric_only in DataFrameGroupBy.mean is deprecated. In a future version, numeric_only will default to False. Either specify numeric_only or select only columns which should be valid for the function.\n",
      "  dataFrame.groupby(\"year\").mean()[\"price\"]\n"
     ]
    },
    {
     "data": {
      "text/plain": [
       "year\n",
       "1997     9995.000000\n",
       "1998     8605.000000\n",
       "1999     5995.000000\n",
       "2000     5743.333333\n",
       "2001     4957.900000\n",
       "2002     5820.444444\n",
       "2003     4878.000000\n",
       "2004     4727.615385\n",
       "2005     4426.111111\n",
       "2006     4036.875000\n",
       "2007     5136.045455\n",
       "2008     6967.437500\n",
       "2009     6166.764706\n",
       "2010     8308.473684\n",
       "2011     8913.459459\n",
       "2012    10845.140351\n",
       "2013    11939.842466\n",
       "2014    14042.936864\n",
       "2015    16647.822222\n",
       "2016    19223.558943\n",
       "2017    21356.280421\n",
       "2018    24800.844506\n",
       "2019    30289.524832\n",
       "2020    34234.794872\n",
       "Name: price, dtype: float64"
      ]
     },
     "execution_count": 25,
     "metadata": {},
     "output_type": "execute_result"
    }
   ],
   "source": [
    "dataFrame.groupby(\"year\").mean()[\"price\"]"
   ]
  },
  {
   "cell_type": "code",
   "execution_count": 26,
   "metadata": {},
   "outputs": [
    {
     "data": {
      "text/html": [
       "<div>\n",
       "<style scoped>\n",
       "    .dataframe tbody tr th:only-of-type {\n",
       "        vertical-align: middle;\n",
       "    }\n",
       "\n",
       "    .dataframe tbody tr th {\n",
       "        vertical-align: top;\n",
       "    }\n",
       "\n",
       "    .dataframe thead th {\n",
       "        text-align: right;\n",
       "    }\n",
       "</style>\n",
       "<table border=\"1\" class=\"dataframe\">\n",
       "  <thead>\n",
       "    <tr style=\"text-align: right;\">\n",
       "      <th></th>\n",
       "      <th>year</th>\n",
       "      <th>price</th>\n",
       "      <th>transmission</th>\n",
       "      <th>mileage</th>\n",
       "      <th>tax</th>\n",
       "      <th>mpg</th>\n",
       "      <th>engineSize</th>\n",
       "    </tr>\n",
       "  </thead>\n",
       "  <tbody>\n",
       "    <tr>\n",
       "      <th>6177</th>\n",
       "      <td>2019</td>\n",
       "      <td>65990</td>\n",
       "      <td>Semi-Auto</td>\n",
       "      <td>5076</td>\n",
       "      <td>150</td>\n",
       "      <td>30.4</td>\n",
       "      <td>3.0</td>\n",
       "    </tr>\n",
       "    <tr>\n",
       "      <th>5779</th>\n",
       "      <td>2020</td>\n",
       "      <td>65990</td>\n",
       "      <td>Semi-Auto</td>\n",
       "      <td>999</td>\n",
       "      <td>145</td>\n",
       "      <td>28.0</td>\n",
       "      <td>4.0</td>\n",
       "    </tr>\n",
       "    <tr>\n",
       "      <th>3191</th>\n",
       "      <td>2020</td>\n",
       "      <td>65980</td>\n",
       "      <td>Semi-Auto</td>\n",
       "      <td>3999</td>\n",
       "      <td>145</td>\n",
       "      <td>28.0</td>\n",
       "      <td>4.0</td>\n",
       "    </tr>\n",
       "    <tr>\n",
       "      <th>4727</th>\n",
       "      <td>2019</td>\n",
       "      <td>65000</td>\n",
       "      <td>Semi-Auto</td>\n",
       "      <td>3398</td>\n",
       "      <td>145</td>\n",
       "      <td>27.2</td>\n",
       "      <td>4.0</td>\n",
       "    </tr>\n",
       "    <tr>\n",
       "      <th>8814</th>\n",
       "      <td>2019</td>\n",
       "      <td>64999</td>\n",
       "      <td>Semi-Auto</td>\n",
       "      <td>119</td>\n",
       "      <td>145</td>\n",
       "      <td>40.9</td>\n",
       "      <td>3.0</td>\n",
       "    </tr>\n",
       "  </tbody>\n",
       "</table>\n",
       "</div>"
      ],
      "text/plain": [
       "      year  price transmission  mileage  tax   mpg  engineSize\n",
       "6177  2019  65990    Semi-Auto     5076  150  30.4         3.0\n",
       "5779  2020  65990    Semi-Auto      999  145  28.0         4.0\n",
       "3191  2020  65980    Semi-Auto     3999  145  28.0         4.0\n",
       "4727  2019  65000    Semi-Auto     3398  145  27.2         4.0\n",
       "8814  2019  64999    Semi-Auto      119  145  40.9         3.0"
      ]
     },
     "execution_count": 26,
     "metadata": {},
     "output_type": "execute_result"
    }
   ],
   "source": [
    "dataFrame.head()"
   ]
  },
  {
   "cell_type": "code",
   "execution_count": 27,
   "metadata": {},
   "outputs": [],
   "source": [
    "dataFrame = dataFrame.drop(\"transmission\",axis=1) #Since transmission does not have a numerical value, we do not want to put it into training and we remove it"
   ]
  },
  {
   "cell_type": "code",
   "execution_count": 28,
   "metadata": {},
   "outputs": [],
   "source": [
    "y = dataFrame[\"price\"].values\n",
    "x = dataFrame.drop(\"price\",axis=1).values"
   ]
  },
  {
   "cell_type": "code",
   "execution_count": 29,
   "metadata": {},
   "outputs": [],
   "source": [
    "from sklearn.model_selection import train_test_split"
   ]
  },
  {
   "cell_type": "code",
   "execution_count": 30,
   "metadata": {},
   "outputs": [],
   "source": [
    "x_train, x_test, y_train, y_test = train_test_split(x, y, test_size=0.3, random_state=10)"
   ]
  },
  {
   "cell_type": "code",
   "execution_count": 31,
   "metadata": {},
   "outputs": [
    {
     "data": {
      "text/plain": [
       "9090"
      ]
     },
     "execution_count": 31,
     "metadata": {},
     "output_type": "execute_result"
    }
   ],
   "source": [
    "len(x_train)"
   ]
  },
  {
   "cell_type": "code",
   "execution_count": 32,
   "metadata": {},
   "outputs": [
    {
     "data": {
      "text/plain": [
       "3897"
      ]
     },
     "execution_count": 32,
     "metadata": {},
     "output_type": "execute_result"
    }
   ],
   "source": [
    "len(x_test)"
   ]
  },
  {
   "cell_type": "code",
   "execution_count": 33,
   "metadata": {},
   "outputs": [],
   "source": [
    "from sklearn.preprocessing import MinMaxScaler"
   ]
  },
  {
   "cell_type": "code",
   "execution_count": 34,
   "metadata": {},
   "outputs": [],
   "source": [
    "scaler = MinMaxScaler()"
   ]
  },
  {
   "cell_type": "code",
   "execution_count": 35,
   "metadata": {},
   "outputs": [],
   "source": [
    "x_train = scaler.fit_transform(x_train) #we did both fit and transform at the same time\n",
    "x_test = scaler.transform(x_test)"
   ]
  },
  {
   "cell_type": "code",
   "execution_count": 36,
   "metadata": {},
   "outputs": [],
   "source": [
    "from tensorflow.keras.models import Sequential\n",
    "from tensorflow.keras.layers import Dense"
   ]
  },
  {
   "cell_type": "code",
   "execution_count": 37,
   "metadata": {},
   "outputs": [],
   "source": [
    "# We created a model, put layers in it, gave the number of neurons in those layers, and determined the activation function and optimizer.\n",
    "#You can check the A neural network playground site for their visuals\n",
    "\n",
    "\n",
    "model = Sequential()\n",
    "\n",
    "model.add(Dense(12,activation=\"relu\"))\n",
    "model.add(Dense(12,activation=\"relu\"))\n",
    "model.add(Dense(12,activation=\"relu\"))\n",
    "model.add(Dense(12,activation=\"relu\"))\n",
    "\n",
    "model.add(Dense(1))\n",
    "\n",
    "model.compile(optimizer=\"adam\",loss=\"mse\")"
   ]
  },
  {
   "cell_type": "code",
   "execution_count": 38,
   "metadata": {},
   "outputs": [
    {
     "name": "stdout",
     "output_type": "stream",
     "text": [
      "Epoch 1/300\n",
      "37/37 [==============================] - 4s 28ms/step - loss: 672140992.0000 - val_loss: 688094976.0000\n",
      "Epoch 2/300\n",
      "37/37 [==============================] - 0s 9ms/step - loss: 672101696.0000 - val_loss: 688022144.0000\n",
      "Epoch 3/300\n",
      "37/37 [==============================] - 0s 8ms/step - loss: 671976576.0000 - val_loss: 687810944.0000\n",
      "Epoch 4/300\n",
      "37/37 [==============================] - 0s 8ms/step - loss: 671616960.0000 - val_loss: 687218944.0000\n",
      "Epoch 5/300\n",
      "37/37 [==============================] - 0s 8ms/step - loss: 670680192.0000 - val_loss: 685766656.0000\n",
      "Epoch 6/300\n",
      "37/37 [==============================] - 0s 8ms/step - loss: 668510272.0000 - val_loss: 682551680.0000\n",
      "Epoch 7/300\n",
      "37/37 [==============================] - 0s 8ms/step - loss: 663951104.0000 - val_loss: 676058880.0000\n",
      "Epoch 8/300\n",
      "37/37 [==============================] - 0s 8ms/step - loss: 655196672.0000 - val_loss: 664211584.0000\n",
      "Epoch 9/300\n",
      "37/37 [==============================] - 0s 9ms/step - loss: 639925760.0000 - val_loss: 644272576.0000\n",
      "Epoch 10/300\n",
      "37/37 [==============================] - 1s 18ms/step - loss: 615109120.0000 - val_loss: 612734720.0000\n",
      "Epoch 11/300\n",
      "37/37 [==============================] - 0s 12ms/step - loss: 577225344.0000 - val_loss: 566450496.0000\n",
      "Epoch 12/300\n",
      "37/37 [==============================] - 1s 15ms/step - loss: 523873408.0000 - val_loss: 503640352.0000\n",
      "Epoch 13/300\n",
      "37/37 [==============================] - 0s 10ms/step - loss: 454470176.0000 - val_loss: 425311872.0000\n",
      "Epoch 14/300\n",
      "37/37 [==============================] - 0s 8ms/step - loss: 372293664.0000 - val_loss: 337328512.0000\n",
      "Epoch 15/300\n",
      "37/37 [==============================] - 0s 8ms/step - loss: 285080992.0000 - val_loss: 250280912.0000\n",
      "Epoch 16/300\n",
      "37/37 [==============================] - 0s 8ms/step - loss: 205646944.0000 - val_loss: 176842672.0000\n",
      "Epoch 17/300\n",
      "37/37 [==============================] - 0s 8ms/step - loss: 145821408.0000 - val_loss: 128258544.0000\n",
      "Epoch 18/300\n",
      "37/37 [==============================] - 0s 12ms/step - loss: 110885560.0000 - val_loss: 104049272.0000\n",
      "Epoch 19/300\n",
      "37/37 [==============================] - 0s 13ms/step - loss: 95894704.0000 - val_loss: 94858368.0000\n",
      "Epoch 20/300\n",
      "37/37 [==============================] - 0s 11ms/step - loss: 91007384.0000 - val_loss: 91802616.0000\n",
      "Epoch 21/300\n",
      "37/37 [==============================] - 0s 12ms/step - loss: 89372288.0000 - val_loss: 90582576.0000\n",
      "Epoch 22/300\n",
      "37/37 [==============================] - 0s 12ms/step - loss: 88488960.0000 - val_loss: 89702440.0000\n",
      "Epoch 23/300\n",
      "37/37 [==============================] - 0s 13ms/step - loss: 87706952.0000 - val_loss: 88923144.0000\n",
      "Epoch 24/300\n",
      "37/37 [==============================] - 0s 12ms/step - loss: 86975040.0000 - val_loss: 88170960.0000\n",
      "Epoch 25/300\n",
      "37/37 [==============================] - 0s 12ms/step - loss: 86250080.0000 - val_loss: 87471112.0000\n",
      "Epoch 26/300\n",
      "37/37 [==============================] - 0s 12ms/step - loss: 85525176.0000 - val_loss: 86763840.0000\n",
      "Epoch 27/300\n",
      "37/37 [==============================] - 1s 20ms/step - loss: 84803856.0000 - val_loss: 86048312.0000\n",
      "Epoch 28/300\n",
      "37/37 [==============================] - 0s 13ms/step - loss: 84082216.0000 - val_loss: 85327632.0000\n",
      "Epoch 29/300\n",
      "37/37 [==============================] - 0s 12ms/step - loss: 83363528.0000 - val_loss: 84602096.0000\n",
      "Epoch 30/300\n",
      "37/37 [==============================] - 0s 12ms/step - loss: 82642008.0000 - val_loss: 83927976.0000\n",
      "Epoch 31/300\n",
      "37/37 [==============================] - 0s 14ms/step - loss: 81927104.0000 - val_loss: 83196216.0000\n",
      "Epoch 32/300\n",
      "37/37 [==============================] - 0s 12ms/step - loss: 81174592.0000 - val_loss: 82438968.0000\n",
      "Epoch 33/300\n",
      "37/37 [==============================] - 0s 13ms/step - loss: 80447624.0000 - val_loss: 81705128.0000\n",
      "Epoch 34/300\n",
      "37/37 [==============================] - 1s 15ms/step - loss: 79701472.0000 - val_loss: 81020656.0000\n",
      "Epoch 35/300\n",
      "37/37 [==============================] - 0s 11ms/step - loss: 78960000.0000 - val_loss: 80244280.0000\n",
      "Epoch 36/300\n",
      "37/37 [==============================] - 0s 12ms/step - loss: 78203296.0000 - val_loss: 79526184.0000\n",
      "Epoch 37/300\n",
      "37/37 [==============================] - 0s 12ms/step - loss: 77438784.0000 - val_loss: 78774440.0000\n",
      "Epoch 38/300\n",
      "37/37 [==============================] - 0s 13ms/step - loss: 76679808.0000 - val_loss: 78031464.0000\n",
      "Epoch 39/300\n",
      "37/37 [==============================] - 0s 12ms/step - loss: 75915832.0000 - val_loss: 77249168.0000\n",
      "Epoch 40/300\n",
      "37/37 [==============================] - 0s 12ms/step - loss: 75130368.0000 - val_loss: 76499912.0000\n",
      "Epoch 41/300\n",
      "37/37 [==============================] - 1s 14ms/step - loss: 74345080.0000 - val_loss: 75727144.0000\n",
      "Epoch 42/300\n",
      "37/37 [==============================] - 0s 12ms/step - loss: 73575328.0000 - val_loss: 74967312.0000\n",
      "Epoch 43/300\n",
      "37/37 [==============================] - 0s 12ms/step - loss: 72777120.0000 - val_loss: 74171592.0000\n",
      "Epoch 44/300\n",
      "37/37 [==============================] - 0s 13ms/step - loss: 71974024.0000 - val_loss: 73389632.0000\n",
      "Epoch 45/300\n",
      "37/37 [==============================] - 0s 12ms/step - loss: 71160352.0000 - val_loss: 72563504.0000\n",
      "Epoch 46/300\n",
      "37/37 [==============================] - 1s 20ms/step - loss: 70352656.0000 - val_loss: 71784904.0000\n",
      "Epoch 47/300\n",
      "37/37 [==============================] - 0s 13ms/step - loss: 69534832.0000 - val_loss: 70961472.0000\n",
      "Epoch 48/300\n",
      "37/37 [==============================] - 1s 14ms/step - loss: 68708256.0000 - val_loss: 70122928.0000\n",
      "Epoch 49/300\n",
      "37/37 [==============================] - 0s 12ms/step - loss: 67877032.0000 - val_loss: 69337192.0000\n",
      "Epoch 50/300\n",
      "37/37 [==============================] - 0s 13ms/step - loss: 67029564.0000 - val_loss: 68474920.0000\n",
      "Epoch 51/300\n",
      "37/37 [==============================] - 0s 11ms/step - loss: 66199636.0000 - val_loss: 67681056.0000\n",
      "Epoch 52/300\n",
      "37/37 [==============================] - 0s 11ms/step - loss: 65351224.0000 - val_loss: 66821436.0000\n",
      "Epoch 53/300\n",
      "37/37 [==============================] - 0s 12ms/step - loss: 64503804.0000 - val_loss: 65973396.0000\n",
      "Epoch 54/300\n",
      "37/37 [==============================] - 0s 12ms/step - loss: 63643460.0000 - val_loss: 65121636.0000\n",
      "Epoch 55/300\n",
      "37/37 [==============================] - 0s 12ms/step - loss: 62774648.0000 - val_loss: 64272428.0000\n",
      "Epoch 56/300\n",
      "37/37 [==============================] - 0s 13ms/step - loss: 61922264.0000 - val_loss: 63419816.0000\n",
      "Epoch 57/300\n",
      "37/37 [==============================] - 0s 13ms/step - loss: 61051144.0000 - val_loss: 62589548.0000\n",
      "Epoch 58/300\n",
      "37/37 [==============================] - 0s 12ms/step - loss: 60171792.0000 - val_loss: 61689628.0000\n",
      "Epoch 59/300\n",
      "37/37 [==============================] - 0s 13ms/step - loss: 59302884.0000 - val_loss: 60807864.0000\n",
      "Epoch 60/300\n",
      "37/37 [==============================] - 0s 11ms/step - loss: 58424012.0000 - val_loss: 59954712.0000\n",
      "Epoch 61/300\n",
      "37/37 [==============================] - 0s 11ms/step - loss: 57542952.0000 - val_loss: 59083824.0000\n",
      "Epoch 62/300\n",
      "37/37 [==============================] - 1s 14ms/step - loss: 56673384.0000 - val_loss: 58209628.0000\n",
      "Epoch 63/300\n",
      "37/37 [==============================] - 0s 12ms/step - loss: 55786740.0000 - val_loss: 57306328.0000\n",
      "Epoch 64/300\n",
      "37/37 [==============================] - 1s 19ms/step - loss: 54894820.0000 - val_loss: 56429828.0000\n",
      "Epoch 65/300\n",
      "37/37 [==============================] - 0s 12ms/step - loss: 54019976.0000 - val_loss: 55556644.0000\n",
      "Epoch 66/300\n",
      "37/37 [==============================] - 0s 11ms/step - loss: 53141544.0000 - val_loss: 54675712.0000\n",
      "Epoch 67/300\n",
      "37/37 [==============================] - 0s 11ms/step - loss: 52259504.0000 - val_loss: 53819860.0000\n",
      "Epoch 68/300\n",
      "37/37 [==============================] - 0s 12ms/step - loss: 51387752.0000 - val_loss: 52906172.0000\n",
      "Epoch 69/300\n",
      "37/37 [==============================] - 0s 13ms/step - loss: 50509240.0000 - val_loss: 52025976.0000\n",
      "Epoch 70/300\n",
      "37/37 [==============================] - 0s 13ms/step - loss: 49646952.0000 - val_loss: 51159936.0000\n",
      "Epoch 71/300\n",
      "37/37 [==============================] - 0s 12ms/step - loss: 48808104.0000 - val_loss: 50294420.0000\n",
      "Epoch 72/300\n",
      "37/37 [==============================] - 0s 11ms/step - loss: 47973484.0000 - val_loss: 49439124.0000\n",
      "Epoch 73/300\n",
      "37/37 [==============================] - 1s 14ms/step - loss: 47120572.0000 - val_loss: 48586348.0000\n",
      "Epoch 74/300\n",
      "37/37 [==============================] - 0s 12ms/step - loss: 46314328.0000 - val_loss: 47738700.0000\n",
      "Epoch 75/300\n",
      "37/37 [==============================] - 0s 13ms/step - loss: 45480408.0000 - val_loss: 46899332.0000\n",
      "Epoch 76/300\n",
      "37/37 [==============================] - 1s 15ms/step - loss: 44693796.0000 - val_loss: 46097868.0000\n",
      "Epoch 77/300\n",
      "37/37 [==============================] - 0s 13ms/step - loss: 43918552.0000 - val_loss: 45332876.0000\n",
      "Epoch 78/300\n",
      "37/37 [==============================] - 0s 12ms/step - loss: 43192376.0000 - val_loss: 44536556.0000\n",
      "Epoch 79/300\n",
      "37/37 [==============================] - 0s 11ms/step - loss: 42454740.0000 - val_loss: 43778496.0000\n",
      "Epoch 80/300\n",
      "37/37 [==============================] - 0s 13ms/step - loss: 41721168.0000 - val_loss: 43035712.0000\n",
      "Epoch 81/300\n",
      "37/37 [==============================] - 0s 12ms/step - loss: 41011592.0000 - val_loss: 42276132.0000\n",
      "Epoch 82/300\n",
      "37/37 [==============================] - 1s 21ms/step - loss: 40299436.0000 - val_loss: 41552660.0000\n",
      "Epoch 83/300\n",
      "37/37 [==============================] - 0s 14ms/step - loss: 39625288.0000 - val_loss: 40855632.0000\n",
      "Epoch 84/300\n",
      "37/37 [==============================] - 0s 13ms/step - loss: 38965804.0000 - val_loss: 40191932.0000\n",
      "Epoch 85/300\n",
      "37/37 [==============================] - 0s 12ms/step - loss: 38355088.0000 - val_loss: 39540932.0000\n",
      "Epoch 86/300\n",
      "37/37 [==============================] - 1s 14ms/step - loss: 37750896.0000 - val_loss: 38913648.0000\n",
      "Epoch 87/300\n",
      "37/37 [==============================] - 0s 13ms/step - loss: 37188232.0000 - val_loss: 38286392.0000\n",
      "Epoch 88/300\n",
      "37/37 [==============================] - 0s 12ms/step - loss: 36607124.0000 - val_loss: 37685296.0000\n",
      "Epoch 89/300\n",
      "37/37 [==============================] - 1s 14ms/step - loss: 36037872.0000 - val_loss: 37090224.0000\n",
      "Epoch 90/300\n",
      "37/37 [==============================] - 0s 12ms/step - loss: 35510228.0000 - val_loss: 36574600.0000\n",
      "Epoch 91/300\n",
      "37/37 [==============================] - 0s 13ms/step - loss: 34971824.0000 - val_loss: 35985144.0000\n",
      "Epoch 92/300\n",
      "37/37 [==============================] - 0s 9ms/step - loss: 34460876.0000 - val_loss: 35431484.0000\n",
      "Epoch 93/300\n",
      "37/37 [==============================] - 0s 9ms/step - loss: 33955136.0000 - val_loss: 34938764.0000\n",
      "Epoch 94/300\n",
      "37/37 [==============================] - 0s 8ms/step - loss: 33488780.0000 - val_loss: 34400468.0000\n",
      "Epoch 95/300\n",
      "37/37 [==============================] - 0s 8ms/step - loss: 32995058.0000 - val_loss: 33907572.0000\n",
      "Epoch 96/300\n",
      "37/37 [==============================] - 0s 8ms/step - loss: 32557084.0000 - val_loss: 33431354.0000\n",
      "Epoch 97/300\n",
      "37/37 [==============================] - 0s 8ms/step - loss: 32077616.0000 - val_loss: 32970194.0000\n",
      "Epoch 98/300\n",
      "37/37 [==============================] - 0s 8ms/step - loss: 31615828.0000 - val_loss: 32486530.0000\n",
      "Epoch 99/300\n",
      "37/37 [==============================] - 1s 14ms/step - loss: 31192374.0000 - val_loss: 32023250.0000\n",
      "Epoch 100/300\n",
      "37/37 [==============================] - 0s 8ms/step - loss: 30753774.0000 - val_loss: 31603366.0000\n",
      "Epoch 101/300\n",
      "37/37 [==============================] - 0s 8ms/step - loss: 30316924.0000 - val_loss: 31152338.0000\n",
      "Epoch 102/300\n",
      "37/37 [==============================] - 0s 8ms/step - loss: 29918298.0000 - val_loss: 30720494.0000\n",
      "Epoch 103/300\n",
      "37/37 [==============================] - 0s 8ms/step - loss: 29498654.0000 - val_loss: 30319894.0000\n",
      "Epoch 104/300\n",
      "37/37 [==============================] - 0s 7ms/step - loss: 29110840.0000 - val_loss: 29918988.0000\n",
      "Epoch 105/300\n",
      "37/37 [==============================] - 0s 8ms/step - loss: 28728880.0000 - val_loss: 29533290.0000\n",
      "Epoch 106/300\n",
      "37/37 [==============================] - 0s 9ms/step - loss: 28357314.0000 - val_loss: 29176696.0000\n",
      "Epoch 107/300\n",
      "37/37 [==============================] - 0s 5ms/step - loss: 27976822.0000 - val_loss: 28787466.0000\n",
      "Epoch 108/300\n",
      "37/37 [==============================] - 0s 6ms/step - loss: 27615744.0000 - val_loss: 28454190.0000\n",
      "Epoch 109/300\n",
      "37/37 [==============================] - 0s 7ms/step - loss: 27283426.0000 - val_loss: 28104178.0000\n",
      "Epoch 110/300\n",
      "37/37 [==============================] - 0s 8ms/step - loss: 26954316.0000 - val_loss: 27825682.0000\n",
      "Epoch 111/300\n",
      "37/37 [==============================] - 0s 6ms/step - loss: 26667776.0000 - val_loss: 27515068.0000\n",
      "Epoch 112/300\n",
      "37/37 [==============================] - 0s 7ms/step - loss: 26380504.0000 - val_loss: 27229434.0000\n",
      "Epoch 113/300\n",
      "37/37 [==============================] - 0s 6ms/step - loss: 26115050.0000 - val_loss: 26977294.0000\n",
      "Epoch 114/300\n",
      "37/37 [==============================] - 0s 5ms/step - loss: 25877050.0000 - val_loss: 26747618.0000\n",
      "Epoch 115/300\n",
      "37/37 [==============================] - 0s 7ms/step - loss: 25617084.0000 - val_loss: 26539594.0000\n",
      "Epoch 116/300\n",
      "37/37 [==============================] - 0s 8ms/step - loss: 25452832.0000 - val_loss: 26343372.0000\n",
      "Epoch 117/300\n",
      "37/37 [==============================] - 0s 7ms/step - loss: 25198134.0000 - val_loss: 26146270.0000\n",
      "Epoch 118/300\n",
      "37/37 [==============================] - 0s 5ms/step - loss: 25026894.0000 - val_loss: 26033746.0000\n",
      "Epoch 119/300\n",
      "37/37 [==============================] - 0s 12ms/step - loss: 24902378.0000 - val_loss: 25940808.0000\n",
      "Epoch 120/300\n",
      "37/37 [==============================] - 0s 6ms/step - loss: 24727530.0000 - val_loss: 25707932.0000\n",
      "Epoch 121/300\n",
      "37/37 [==============================] - 0s 5ms/step - loss: 24573810.0000 - val_loss: 25583004.0000\n",
      "Epoch 122/300\n",
      "37/37 [==============================] - 0s 5ms/step - loss: 24441698.0000 - val_loss: 25462716.0000\n",
      "Epoch 123/300\n",
      "37/37 [==============================] - 0s 5ms/step - loss: 24317410.0000 - val_loss: 25374096.0000\n",
      "Epoch 124/300\n",
      "37/37 [==============================] - 0s 5ms/step - loss: 24185612.0000 - val_loss: 25255666.0000\n",
      "Epoch 125/300\n",
      "37/37 [==============================] - 0s 6ms/step - loss: 24081862.0000 - val_loss: 25169804.0000\n",
      "Epoch 126/300\n",
      "37/37 [==============================] - 0s 5ms/step - loss: 23993056.0000 - val_loss: 25065932.0000\n",
      "Epoch 127/300\n",
      "37/37 [==============================] - 0s 5ms/step - loss: 23892460.0000 - val_loss: 24997262.0000\n",
      "Epoch 128/300\n",
      "37/37 [==============================] - 0s 6ms/step - loss: 23792040.0000 - val_loss: 24920740.0000\n",
      "Epoch 129/300\n",
      "37/37 [==============================] - 0s 5ms/step - loss: 23705014.0000 - val_loss: 24831794.0000\n",
      "Epoch 130/300\n",
      "37/37 [==============================] - 0s 5ms/step - loss: 23627868.0000 - val_loss: 24758004.0000\n",
      "Epoch 131/300\n",
      "37/37 [==============================] - 0s 6ms/step - loss: 23558652.0000 - val_loss: 24701354.0000\n",
      "Epoch 132/300\n",
      "37/37 [==============================] - 0s 5ms/step - loss: 23471556.0000 - val_loss: 24616488.0000\n",
      "Epoch 133/300\n",
      "37/37 [==============================] - 0s 6ms/step - loss: 23412100.0000 - val_loss: 24555798.0000\n",
      "Epoch 134/300\n",
      "37/37 [==============================] - 0s 5ms/step - loss: 23377932.0000 - val_loss: 24558594.0000\n",
      "Epoch 135/300\n",
      "37/37 [==============================] - 0s 5ms/step - loss: 23299864.0000 - val_loss: 24436136.0000\n",
      "Epoch 136/300\n",
      "37/37 [==============================] - 0s 5ms/step - loss: 23221738.0000 - val_loss: 24379472.0000\n",
      "Epoch 137/300\n",
      "37/37 [==============================] - 0s 7ms/step - loss: 23171668.0000 - val_loss: 24328870.0000\n",
      "Epoch 138/300\n",
      "37/37 [==============================] - 0s 5ms/step - loss: 23107688.0000 - val_loss: 24308428.0000\n",
      "Epoch 139/300\n",
      "37/37 [==============================] - 0s 5ms/step - loss: 23055178.0000 - val_loss: 24239164.0000\n",
      "Epoch 140/300\n",
      "37/37 [==============================] - 0s 5ms/step - loss: 23000554.0000 - val_loss: 24183324.0000\n",
      "Epoch 141/300\n",
      "37/37 [==============================] - 0s 5ms/step - loss: 22971394.0000 - val_loss: 24133384.0000\n",
      "Epoch 142/300\n",
      "37/37 [==============================] - 0s 5ms/step - loss: 22889904.0000 - val_loss: 24073792.0000\n",
      "Epoch 143/300\n",
      "37/37 [==============================] - 0s 5ms/step - loss: 22834224.0000 - val_loss: 24033100.0000\n",
      "Epoch 144/300\n",
      "37/37 [==============================] - 0s 5ms/step - loss: 22791868.0000 - val_loss: 23964340.0000\n",
      "Epoch 145/300\n",
      "37/37 [==============================] - 0s 8ms/step - loss: 22743464.0000 - val_loss: 23923344.0000\n",
      "Epoch 146/300\n",
      "37/37 [==============================] - 0s 5ms/step - loss: 22677380.0000 - val_loss: 23972218.0000\n",
      "Epoch 147/300\n",
      "37/37 [==============================] - 0s 5ms/step - loss: 22669684.0000 - val_loss: 23846380.0000\n",
      "Epoch 148/300\n",
      "37/37 [==============================] - 0s 6ms/step - loss: 22608458.0000 - val_loss: 23826516.0000\n",
      "Epoch 149/300\n",
      "37/37 [==============================] - 0s 5ms/step - loss: 22574292.0000 - val_loss: 23761352.0000\n",
      "Epoch 150/300\n",
      "37/37 [==============================] - 0s 13ms/step - loss: 22532088.0000 - val_loss: 23698842.0000\n",
      "Epoch 151/300\n",
      "37/37 [==============================] - 0s 8ms/step - loss: 22469902.0000 - val_loss: 23661602.0000\n",
      "Epoch 152/300\n",
      "37/37 [==============================] - 0s 13ms/step - loss: 22449852.0000 - val_loss: 23614462.0000\n",
      "Epoch 153/300\n",
      "37/37 [==============================] - 0s 6ms/step - loss: 22435488.0000 - val_loss: 23600854.0000\n",
      "Epoch 154/300\n",
      "37/37 [==============================] - 0s 6ms/step - loss: 22340994.0000 - val_loss: 23543136.0000\n",
      "Epoch 155/300\n",
      "37/37 [==============================] - 0s 6ms/step - loss: 22316826.0000 - val_loss: 23546088.0000\n",
      "Epoch 156/300\n",
      "37/37 [==============================] - 0s 5ms/step - loss: 22277528.0000 - val_loss: 23464596.0000\n",
      "Epoch 157/300\n",
      "37/37 [==============================] - 0s 7ms/step - loss: 22228320.0000 - val_loss: 23411758.0000\n",
      "Epoch 158/300\n",
      "37/37 [==============================] - 0s 9ms/step - loss: 22195494.0000 - val_loss: 23366424.0000\n",
      "Epoch 159/300\n",
      "37/37 [==============================] - 0s 7ms/step - loss: 22156718.0000 - val_loss: 23332040.0000\n",
      "Epoch 160/300\n",
      "37/37 [==============================] - 0s 10ms/step - loss: 22123262.0000 - val_loss: 23296936.0000\n",
      "Epoch 161/300\n",
      "37/37 [==============================] - 0s 9ms/step - loss: 22084082.0000 - val_loss: 23309936.0000\n",
      "Epoch 162/300\n",
      "37/37 [==============================] - 0s 9ms/step - loss: 22054884.0000 - val_loss: 23249290.0000\n",
      "Epoch 163/300\n",
      "37/37 [==============================] - 0s 6ms/step - loss: 21992880.0000 - val_loss: 23263682.0000\n",
      "Epoch 164/300\n",
      "37/37 [==============================] - 0s 6ms/step - loss: 21991880.0000 - val_loss: 23153350.0000\n",
      "Epoch 165/300\n",
      "37/37 [==============================] - 0s 6ms/step - loss: 21938678.0000 - val_loss: 23125102.0000\n",
      "Epoch 166/300\n",
      "37/37 [==============================] - 0s 5ms/step - loss: 21893272.0000 - val_loss: 23093658.0000\n",
      "Epoch 167/300\n",
      "37/37 [==============================] - 0s 5ms/step - loss: 21869984.0000 - val_loss: 23069904.0000\n",
      "Epoch 168/300\n",
      "37/37 [==============================] - 0s 5ms/step - loss: 21851212.0000 - val_loss: 23085680.0000\n",
      "Epoch 169/300\n",
      "37/37 [==============================] - 0s 5ms/step - loss: 21807486.0000 - val_loss: 22983046.0000\n",
      "Epoch 170/300\n",
      "37/37 [==============================] - 0s 5ms/step - loss: 21763176.0000 - val_loss: 22965912.0000\n",
      "Epoch 171/300\n",
      "37/37 [==============================] - 0s 6ms/step - loss: 21729884.0000 - val_loss: 22928144.0000\n",
      "Epoch 172/300\n",
      "37/37 [==============================] - 0s 7ms/step - loss: 21684744.0000 - val_loss: 22897776.0000\n",
      "Epoch 173/300\n",
      "37/37 [==============================] - 0s 6ms/step - loss: 21658436.0000 - val_loss: 22862688.0000\n",
      "Epoch 174/300\n",
      "37/37 [==============================] - 0s 6ms/step - loss: 21612522.0000 - val_loss: 22856498.0000\n",
      "Epoch 175/300\n",
      "37/37 [==============================] - 0s 5ms/step - loss: 21592798.0000 - val_loss: 22796654.0000\n",
      "Epoch 176/300\n",
      "37/37 [==============================] - 0s 6ms/step - loss: 21564564.0000 - val_loss: 22771016.0000\n",
      "Epoch 177/300\n",
      "37/37 [==============================] - 0s 7ms/step - loss: 21561506.0000 - val_loss: 22839588.0000\n",
      "Epoch 178/300\n",
      "37/37 [==============================] - 0s 10ms/step - loss: 21500208.0000 - val_loss: 22714658.0000\n",
      "Epoch 179/300\n",
      "37/37 [==============================] - 0s 5ms/step - loss: 21456630.0000 - val_loss: 22674940.0000\n",
      "Epoch 180/300\n",
      "37/37 [==============================] - 0s 6ms/step - loss: 21417280.0000 - val_loss: 22651776.0000\n",
      "Epoch 181/300\n",
      "37/37 [==============================] - 0s 5ms/step - loss: 21397314.0000 - val_loss: 22622368.0000\n",
      "Epoch 182/300\n",
      "37/37 [==============================] - 0s 5ms/step - loss: 21366272.0000 - val_loss: 22582058.0000\n",
      "Epoch 183/300\n",
      "37/37 [==============================] - 0s 5ms/step - loss: 21345576.0000 - val_loss: 22551682.0000\n",
      "Epoch 184/300\n",
      "37/37 [==============================] - 0s 5ms/step - loss: 21325378.0000 - val_loss: 22557580.0000\n",
      "Epoch 185/300\n",
      "37/37 [==============================] - 0s 5ms/step - loss: 21273538.0000 - val_loss: 22495194.0000\n",
      "Epoch 186/300\n",
      "37/37 [==============================] - 0s 6ms/step - loss: 21246238.0000 - val_loss: 22511406.0000\n",
      "Epoch 187/300\n",
      "37/37 [==============================] - 0s 6ms/step - loss: 21237924.0000 - val_loss: 22432800.0000\n",
      "Epoch 188/300\n",
      "37/37 [==============================] - 1s 17ms/step - loss: 21190584.0000 - val_loss: 22415164.0000\n",
      "Epoch 189/300\n",
      "37/37 [==============================] - 0s 9ms/step - loss: 21163710.0000 - val_loss: 22418008.0000\n",
      "Epoch 190/300\n",
      "37/37 [==============================] - 0s 10ms/step - loss: 21136592.0000 - val_loss: 22371690.0000\n",
      "Epoch 191/300\n",
      "37/37 [==============================] - 0s 7ms/step - loss: 21125628.0000 - val_loss: 22405968.0000\n",
      "Epoch 192/300\n",
      "37/37 [==============================] - 0s 12ms/step - loss: 21080976.0000 - val_loss: 22316670.0000\n",
      "Epoch 193/300\n",
      "37/37 [==============================] - 0s 9ms/step - loss: 21064440.0000 - val_loss: 22302496.0000\n",
      "Epoch 194/300\n",
      "37/37 [==============================] - 0s 9ms/step - loss: 21067096.0000 - val_loss: 22266178.0000\n",
      "Epoch 195/300\n",
      "37/37 [==============================] - 0s 9ms/step - loss: 21017100.0000 - val_loss: 22273684.0000\n",
      "Epoch 196/300\n",
      "37/37 [==============================] - 0s 11ms/step - loss: 20994722.0000 - val_loss: 22225330.0000\n",
      "Epoch 197/300\n",
      "37/37 [==============================] - 0s 8ms/step - loss: 20982186.0000 - val_loss: 22204754.0000\n",
      "Epoch 198/300\n",
      "37/37 [==============================] - 0s 8ms/step - loss: 20960444.0000 - val_loss: 22190382.0000\n",
      "Epoch 199/300\n",
      "37/37 [==============================] - 0s 8ms/step - loss: 20945548.0000 - val_loss: 22182138.0000\n",
      "Epoch 200/300\n",
      "37/37 [==============================] - 0s 13ms/step - loss: 20928880.0000 - val_loss: 22166950.0000\n",
      "Epoch 201/300\n",
      "37/37 [==============================] - 1s 18ms/step - loss: 20928526.0000 - val_loss: 22232536.0000\n",
      "Epoch 202/300\n",
      "37/37 [==============================] - 1s 19ms/step - loss: 20910238.0000 - val_loss: 22132102.0000\n",
      "Epoch 203/300\n",
      "37/37 [==============================] - 1s 19ms/step - loss: 20858468.0000 - val_loss: 22147696.0000\n",
      "Epoch 204/300\n",
      "37/37 [==============================] - 1s 16ms/step - loss: 20877914.0000 - val_loss: 22137696.0000\n",
      "Epoch 205/300\n",
      "37/37 [==============================] - 0s 12ms/step - loss: 20834578.0000 - val_loss: 22131638.0000\n",
      "Epoch 206/300\n",
      "37/37 [==============================] - 1s 15ms/step - loss: 20849342.0000 - val_loss: 22064290.0000\n",
      "Epoch 207/300\n",
      "37/37 [==============================] - 0s 8ms/step - loss: 20830594.0000 - val_loss: 22056636.0000\n",
      "Epoch 208/300\n",
      "37/37 [==============================] - 0s 8ms/step - loss: 20788500.0000 - val_loss: 22069996.0000\n",
      "Epoch 209/300\n",
      "37/37 [==============================] - 0s 8ms/step - loss: 20804934.0000 - val_loss: 22059450.0000\n",
      "Epoch 210/300\n",
      "37/37 [==============================] - 0s 9ms/step - loss: 20775348.0000 - val_loss: 22052098.0000\n",
      "Epoch 211/300\n",
      "37/37 [==============================] - 0s 8ms/step - loss: 20781398.0000 - val_loss: 22020648.0000\n",
      "Epoch 212/300\n",
      "37/37 [==============================] - 0s 7ms/step - loss: 20808534.0000 - val_loss: 21995628.0000\n",
      "Epoch 213/300\n",
      "37/37 [==============================] - 1s 17ms/step - loss: 20746604.0000 - val_loss: 21980404.0000\n",
      "Epoch 214/300\n",
      "37/37 [==============================] - 0s 12ms/step - loss: 20722070.0000 - val_loss: 21970626.0000\n",
      "Epoch 215/300\n",
      "37/37 [==============================] - 0s 10ms/step - loss: 20741452.0000 - val_loss: 21955954.0000\n",
      "Epoch 216/300\n",
      "37/37 [==============================] - 0s 9ms/step - loss: 20727720.0000 - val_loss: 21957284.0000\n",
      "Epoch 217/300\n",
      "37/37 [==============================] - 0s 11ms/step - loss: 20752914.0000 - val_loss: 21945504.0000\n",
      "Epoch 218/300\n",
      "37/37 [==============================] - 0s 8ms/step - loss: 20687288.0000 - val_loss: 21925950.0000\n",
      "Epoch 219/300\n",
      "37/37 [==============================] - 1s 15ms/step - loss: 20699988.0000 - val_loss: 21914028.0000\n",
      "Epoch 220/300\n",
      "37/37 [==============================] - 0s 8ms/step - loss: 20684590.0000 - val_loss: 21904368.0000\n",
      "Epoch 221/300\n",
      "37/37 [==============================] - 0s 10ms/step - loss: 20661420.0000 - val_loss: 21895458.0000\n",
      "Epoch 222/300\n",
      "37/37 [==============================] - 0s 8ms/step - loss: 20668970.0000 - val_loss: 21885810.0000\n",
      "Epoch 223/300\n",
      "37/37 [==============================] - 0s 8ms/step - loss: 20663684.0000 - val_loss: 21879542.0000\n",
      "Epoch 224/300\n",
      "37/37 [==============================] - 0s 8ms/step - loss: 20634098.0000 - val_loss: 21868268.0000\n",
      "Epoch 225/300\n",
      "37/37 [==============================] - 0s 8ms/step - loss: 20628586.0000 - val_loss: 21896920.0000\n",
      "Epoch 226/300\n",
      "37/37 [==============================] - 0s 9ms/step - loss: 20630180.0000 - val_loss: 21855570.0000\n",
      "Epoch 227/300\n",
      "37/37 [==============================] - 0s 8ms/step - loss: 20607340.0000 - val_loss: 21838382.0000\n",
      "Epoch 228/300\n",
      "37/37 [==============================] - 0s 7ms/step - loss: 20589708.0000 - val_loss: 21831940.0000\n",
      "Epoch 229/300\n",
      "37/37 [==============================] - 0s 12ms/step - loss: 20605532.0000 - val_loss: 21833872.0000\n",
      "Epoch 230/300\n",
      "37/37 [==============================] - 0s 6ms/step - loss: 20587526.0000 - val_loss: 21813390.0000\n",
      "Epoch 231/300\n",
      "37/37 [==============================] - 0s 5ms/step - loss: 20571804.0000 - val_loss: 21808508.0000\n",
      "Epoch 232/300\n",
      "37/37 [==============================] - 0s 6ms/step - loss: 20566842.0000 - val_loss: 21799292.0000\n",
      "Epoch 233/300\n",
      "37/37 [==============================] - 0s 9ms/step - loss: 20564098.0000 - val_loss: 21787554.0000\n",
      "Epoch 234/300\n",
      "37/37 [==============================] - 0s 5ms/step - loss: 20552050.0000 - val_loss: 21781852.0000\n",
      "Epoch 235/300\n",
      "37/37 [==============================] - 0s 6ms/step - loss: 20543828.0000 - val_loss: 21772666.0000\n",
      "Epoch 236/300\n",
      "37/37 [==============================] - 0s 5ms/step - loss: 20546946.0000 - val_loss: 21762834.0000\n",
      "Epoch 237/300\n",
      "37/37 [==============================] - 0s 5ms/step - loss: 20524850.0000 - val_loss: 21802654.0000\n",
      "Epoch 238/300\n",
      "37/37 [==============================] - 0s 6ms/step - loss: 20536534.0000 - val_loss: 21750964.0000\n",
      "Epoch 239/300\n",
      "37/37 [==============================] - 0s 6ms/step - loss: 20521642.0000 - val_loss: 21761706.0000\n",
      "Epoch 240/300\n",
      "37/37 [==============================] - 0s 6ms/step - loss: 20504722.0000 - val_loss: 21740294.0000\n",
      "Epoch 241/300\n",
      "37/37 [==============================] - 0s 5ms/step - loss: 20511532.0000 - val_loss: 21744426.0000\n",
      "Epoch 242/300\n",
      "37/37 [==============================] - 0s 7ms/step - loss: 20496076.0000 - val_loss: 21727548.0000\n",
      "Epoch 243/300\n",
      "37/37 [==============================] - 0s 6ms/step - loss: 20482308.0000 - val_loss: 21710298.0000\n",
      "Epoch 244/300\n",
      "37/37 [==============================] - 0s 6ms/step - loss: 20486426.0000 - val_loss: 21715982.0000\n",
      "Epoch 245/300\n",
      "37/37 [==============================] - 0s 6ms/step - loss: 20465902.0000 - val_loss: 21706708.0000\n",
      "Epoch 246/300\n",
      "37/37 [==============================] - 0s 6ms/step - loss: 20463656.0000 - val_loss: 21710938.0000\n",
      "Epoch 247/300\n",
      "37/37 [==============================] - 0s 6ms/step - loss: 20463222.0000 - val_loss: 21677606.0000\n",
      "Epoch 248/300\n",
      "37/37 [==============================] - 0s 6ms/step - loss: 20450778.0000 - val_loss: 21678494.0000\n",
      "Epoch 249/300\n",
      "37/37 [==============================] - 0s 6ms/step - loss: 20451362.0000 - val_loss: 21687932.0000\n",
      "Epoch 250/300\n",
      "37/37 [==============================] - 0s 7ms/step - loss: 20430642.0000 - val_loss: 21697104.0000\n",
      "Epoch 251/300\n",
      "37/37 [==============================] - 0s 8ms/step - loss: 20425302.0000 - val_loss: 21669150.0000\n",
      "Epoch 252/300\n",
      "37/37 [==============================] - 0s 7ms/step - loss: 20424882.0000 - val_loss: 21651582.0000\n",
      "Epoch 253/300\n",
      "37/37 [==============================] - 0s 6ms/step - loss: 20417726.0000 - val_loss: 21728114.0000\n",
      "Epoch 254/300\n",
      "37/37 [==============================] - 0s 5ms/step - loss: 20445124.0000 - val_loss: 21653588.0000\n",
      "Epoch 255/300\n",
      "37/37 [==============================] - 0s 5ms/step - loss: 20407480.0000 - val_loss: 21655630.0000\n",
      "Epoch 256/300\n",
      "37/37 [==============================] - 0s 5ms/step - loss: 20413324.0000 - val_loss: 21642638.0000\n",
      "Epoch 257/300\n",
      "37/37 [==============================] - 0s 5ms/step - loss: 20381652.0000 - val_loss: 21604886.0000\n",
      "Epoch 258/300\n",
      "37/37 [==============================] - 0s 6ms/step - loss: 20378512.0000 - val_loss: 21671124.0000\n",
      "Epoch 259/300\n",
      "37/37 [==============================] - 0s 5ms/step - loss: 20423578.0000 - val_loss: 21600168.0000\n",
      "Epoch 260/300\n",
      "37/37 [==============================] - 0s 6ms/step - loss: 20403754.0000 - val_loss: 21597326.0000\n",
      "Epoch 261/300\n",
      "37/37 [==============================] - 0s 6ms/step - loss: 20386498.0000 - val_loss: 21608332.0000\n",
      "Epoch 262/300\n",
      "37/37 [==============================] - 0s 6ms/step - loss: 20372918.0000 - val_loss: 21583580.0000\n",
      "Epoch 263/300\n",
      "37/37 [==============================] - 0s 5ms/step - loss: 20364660.0000 - val_loss: 21583624.0000\n",
      "Epoch 264/300\n",
      "37/37 [==============================] - 0s 5ms/step - loss: 20352854.0000 - val_loss: 21566404.0000\n",
      "Epoch 265/300\n",
      "37/37 [==============================] - 0s 5ms/step - loss: 20327504.0000 - val_loss: 21613664.0000\n",
      "Epoch 266/300\n",
      "37/37 [==============================] - 0s 5ms/step - loss: 20324198.0000 - val_loss: 21648456.0000\n",
      "Epoch 267/300\n",
      "37/37 [==============================] - 0s 6ms/step - loss: 20339178.0000 - val_loss: 21560864.0000\n",
      "Epoch 268/300\n",
      "37/37 [==============================] - 0s 5ms/step - loss: 20314418.0000 - val_loss: 21542286.0000\n",
      "Epoch 269/300\n",
      "37/37 [==============================] - 0s 9ms/step - loss: 20307154.0000 - val_loss: 21540384.0000\n",
      "Epoch 270/300\n",
      "37/37 [==============================] - 0s 6ms/step - loss: 20284098.0000 - val_loss: 21547394.0000\n",
      "Epoch 271/300\n",
      "37/37 [==============================] - 0s 5ms/step - loss: 20282498.0000 - val_loss: 21520540.0000\n",
      "Epoch 272/300\n",
      "37/37 [==============================] - 0s 5ms/step - loss: 20279844.0000 - val_loss: 21510328.0000\n",
      "Epoch 273/300\n",
      "37/37 [==============================] - 0s 5ms/step - loss: 20293238.0000 - val_loss: 21569594.0000\n",
      "Epoch 274/300\n",
      "37/37 [==============================] - 0s 5ms/step - loss: 20288818.0000 - val_loss: 21516650.0000\n",
      "Epoch 275/300\n",
      "37/37 [==============================] - 0s 5ms/step - loss: 20308308.0000 - val_loss: 21499476.0000\n",
      "Epoch 276/300\n",
      "37/37 [==============================] - 0s 5ms/step - loss: 20249986.0000 - val_loss: 21554234.0000\n",
      "Epoch 277/300\n",
      "37/37 [==============================] - 0s 5ms/step - loss: 20276950.0000 - val_loss: 21504068.0000\n",
      "Epoch 278/300\n",
      "37/37 [==============================] - 0s 5ms/step - loss: 20245888.0000 - val_loss: 21463538.0000\n",
      "Epoch 279/300\n",
      "37/37 [==============================] - 0s 5ms/step - loss: 20248706.0000 - val_loss: 21527302.0000\n",
      "Epoch 280/300\n",
      "37/37 [==============================] - 0s 6ms/step - loss: 20261672.0000 - val_loss: 21451394.0000\n",
      "Epoch 281/300\n",
      "37/37 [==============================] - 0s 5ms/step - loss: 20236164.0000 - val_loss: 21453912.0000\n",
      "Epoch 282/300\n",
      "37/37 [==============================] - 0s 6ms/step - loss: 20219810.0000 - val_loss: 21462264.0000\n",
      "Epoch 283/300\n",
      "37/37 [==============================] - 0s 5ms/step - loss: 20206128.0000 - val_loss: 21485694.0000\n",
      "Epoch 284/300\n",
      "37/37 [==============================] - 0s 5ms/step - loss: 20238796.0000 - val_loss: 21430836.0000\n",
      "Epoch 285/300\n",
      "37/37 [==============================] - 0s 5ms/step - loss: 20196612.0000 - val_loss: 21419072.0000\n",
      "Epoch 286/300\n",
      "37/37 [==============================] - 0s 8ms/step - loss: 20177326.0000 - val_loss: 21459580.0000\n",
      "Epoch 287/300\n",
      "37/37 [==============================] - 0s 7ms/step - loss: 20182928.0000 - val_loss: 21484252.0000\n",
      "Epoch 288/300\n",
      "37/37 [==============================] - 0s 5ms/step - loss: 20202640.0000 - val_loss: 21430218.0000\n",
      "Epoch 289/300\n",
      "37/37 [==============================] - 0s 5ms/step - loss: 20198362.0000 - val_loss: 21400858.0000\n",
      "Epoch 290/300\n",
      "37/37 [==============================] - 0s 5ms/step - loss: 20163156.0000 - val_loss: 21397140.0000\n",
      "Epoch 291/300\n",
      "37/37 [==============================] - 0s 7ms/step - loss: 20171480.0000 - val_loss: 21363744.0000\n",
      "Epoch 292/300\n",
      "37/37 [==============================] - 0s 5ms/step - loss: 20153746.0000 - val_loss: 21391694.0000\n",
      "Epoch 293/300\n",
      "37/37 [==============================] - 0s 6ms/step - loss: 20179558.0000 - val_loss: 21363880.0000\n",
      "Epoch 294/300\n",
      "37/37 [==============================] - 0s 5ms/step - loss: 20135292.0000 - val_loss: 21350788.0000\n",
      "Epoch 295/300\n",
      "37/37 [==============================] - 0s 5ms/step - loss: 20120492.0000 - val_loss: 21349970.0000\n",
      "Epoch 296/300\n",
      "37/37 [==============================] - 0s 5ms/step - loss: 20113212.0000 - val_loss: 21330366.0000\n",
      "Epoch 297/300\n",
      "37/37 [==============================] - 0s 5ms/step - loss: 20103808.0000 - val_loss: 21339736.0000\n",
      "Epoch 298/300\n",
      "37/37 [==============================] - 0s 5ms/step - loss: 20099942.0000 - val_loss: 21355748.0000\n",
      "Epoch 299/300\n",
      "37/37 [==============================] - 0s 6ms/step - loss: 20134858.0000 - val_loss: 21333888.0000\n",
      "Epoch 300/300\n",
      "37/37 [==============================] - 0s 6ms/step - loss: 20103812.0000 - val_loss: 21307476.0000\n"
     ]
    },
    {
     "data": {
      "text/plain": [
       "<keras.callbacks.History at 0x20d85371a80>"
      ]
     },
     "execution_count": 38,
     "metadata": {},
     "output_type": "execute_result"
    }
   ],
   "source": [
    "model.fit(x=x_train,y=y_train,validation_data=(x_test,y_test), batch_size=250, epochs=300) #We used validation_data() to calculate the train and test loss comparison directly. gave us loss and val_loss"
   ]
  },
  {
   "cell_type": "code",
   "execution_count": 39,
   "metadata": {},
   "outputs": [],
   "source": [
    "kayipVerisi = pd.DataFrame(model.history.history)"
   ]
  },
  {
   "cell_type": "code",
   "execution_count": 40,
   "metadata": {},
   "outputs": [
    {
     "data": {
      "text/html": [
       "<div>\n",
       "<style scoped>\n",
       "    .dataframe tbody tr th:only-of-type {\n",
       "        vertical-align: middle;\n",
       "    }\n",
       "\n",
       "    .dataframe tbody tr th {\n",
       "        vertical-align: top;\n",
       "    }\n",
       "\n",
       "    .dataframe thead th {\n",
       "        text-align: right;\n",
       "    }\n",
       "</style>\n",
       "<table border=\"1\" class=\"dataframe\">\n",
       "  <thead>\n",
       "    <tr style=\"text-align: right;\">\n",
       "      <th></th>\n",
       "      <th>loss</th>\n",
       "      <th>val_loss</th>\n",
       "    </tr>\n",
       "  </thead>\n",
       "  <tbody>\n",
       "    <tr>\n",
       "      <th>0</th>\n",
       "      <td>672140992.0</td>\n",
       "      <td>688094976.0</td>\n",
       "    </tr>\n",
       "    <tr>\n",
       "      <th>1</th>\n",
       "      <td>672101696.0</td>\n",
       "      <td>688022144.0</td>\n",
       "    </tr>\n",
       "    <tr>\n",
       "      <th>2</th>\n",
       "      <td>671976576.0</td>\n",
       "      <td>687810944.0</td>\n",
       "    </tr>\n",
       "    <tr>\n",
       "      <th>3</th>\n",
       "      <td>671616960.0</td>\n",
       "      <td>687218944.0</td>\n",
       "    </tr>\n",
       "    <tr>\n",
       "      <th>4</th>\n",
       "      <td>670680192.0</td>\n",
       "      <td>685766656.0</td>\n",
       "    </tr>\n",
       "  </tbody>\n",
       "</table>\n",
       "</div>"
      ],
      "text/plain": [
       "          loss     val_loss\n",
       "0  672140992.0  688094976.0\n",
       "1  672101696.0  688022144.0\n",
       "2  671976576.0  687810944.0\n",
       "3  671616960.0  687218944.0\n",
       "4  670680192.0  685766656.0"
      ]
     },
     "execution_count": 40,
     "metadata": {},
     "output_type": "execute_result"
    }
   ],
   "source": [
    "kayipVerisi.head()"
   ]
  },
  {
   "cell_type": "code",
   "execution_count": 41,
   "metadata": {},
   "outputs": [
    {
     "data": {
      "text/plain": [
       "<AxesSubplot: >"
      ]
     },
     "execution_count": 41,
     "metadata": {},
     "output_type": "execute_result"
    },
    {
     "data": {
      "image/png": "[encoded data removed]",
      "text/plain": [
       "<Figure size 640x480 with 1 Axes>"
      ]
     },
     "metadata": {},
     "output_type": "display_data"
    }
   ],
   "source": [
    "kayipVerisi.plot()"
   ]
  },
  {
   "cell_type": "code",
   "execution_count": 42,
   "metadata": {},
   "outputs": [],
   "source": [
    "from sklearn.metrics import mean_squared_error,mean_absolute_error"
   ]
  },
  {
   "cell_type": "code",
   "execution_count": 43,
   "metadata": {},
   "outputs": [
    {
     "name": "stdout",
     "output_type": "stream",
     "text": [
      "122/122 [==============================] - 0s 2ms/step\n"
     ]
    }
   ],
   "source": [
    "tahminDisizi = model.predict(x_test)"
   ]
  },
  {
   "cell_type": "code",
   "execution_count": 44,
   "metadata": {},
   "outputs": [
    {
     "data": {
      "text/plain": [
       "array([[22079.838],\n",
       "       [23955.824],\n",
       "       [25147.705],\n",
       "       ...,\n",
       "       [26748.658],\n",
       "       [10743.955],\n",
       "       [24992.207]], dtype=float32)"
      ]
     },
     "execution_count": 44,
     "metadata": {},
     "output_type": "execute_result"
    }
   ],
   "source": [
    "tahminDisizi"
   ]
  },
  {
   "cell_type": "code",
   "execution_count": 45,
   "metadata": {},
   "outputs": [
    {
     "data": {
      "text/plain": [
       "3285.588013165175"
      ]
     },
     "execution_count": 45,
     "metadata": {},
     "output_type": "execute_result"
    }
   ],
   "source": [
    "mean_absolute_error(y_test,tahminDisizi)"
   ]
  },
  {
   "cell_type": "code",
   "execution_count": 46,
   "metadata": {},
   "outputs": [
    {
     "data": {
      "text/html": [
       "<div>\n",
       "<style scoped>\n",
       "    .dataframe tbody tr th:only-of-type {\n",
       "        vertical-align: middle;\n",
       "    }\n",
       "\n",
       "    .dataframe tbody tr th {\n",
       "        vertical-align: top;\n",
       "    }\n",
       "\n",
       "    .dataframe thead th {\n",
       "        text-align: right;\n",
       "    }\n",
       "</style>\n",
       "<table border=\"1\" class=\"dataframe\">\n",
       "  <thead>\n",
       "    <tr style=\"text-align: right;\">\n",
       "      <th></th>\n",
       "      <th>year</th>\n",
       "      <th>price</th>\n",
       "      <th>mileage</th>\n",
       "      <th>tax</th>\n",
       "      <th>mpg</th>\n",
       "      <th>engineSize</th>\n",
       "    </tr>\n",
       "  </thead>\n",
       "  <tbody>\n",
       "    <tr>\n",
       "      <th>count</th>\n",
       "      <td>12987.000000</td>\n",
       "      <td>12987.000000</td>\n",
       "      <td>12987.000000</td>\n",
       "      <td>12987.000000</td>\n",
       "      <td>12987.000000</td>\n",
       "      <td>12987.000000</td>\n",
       "    </tr>\n",
       "    <tr>\n",
       "      <th>mean</th>\n",
       "      <td>2017.285516</td>\n",
       "      <td>24074.855779</td>\n",
       "      <td>22133.367367</td>\n",
       "      <td>129.676215</td>\n",
       "      <td>55.438392</td>\n",
       "      <td>2.051059</td>\n",
       "    </tr>\n",
       "    <tr>\n",
       "      <th>std</th>\n",
       "      <td>2.189633</td>\n",
       "      <td>9866.601115</td>\n",
       "      <td>21197.472376</td>\n",
       "      <td>65.167429</td>\n",
       "      <td>15.025902</td>\n",
       "      <td>0.532313</td>\n",
       "    </tr>\n",
       "    <tr>\n",
       "      <th>min</th>\n",
       "      <td>1997.000000</td>\n",
       "      <td>650.000000</td>\n",
       "      <td>1.000000</td>\n",
       "      <td>0.000000</td>\n",
       "      <td>1.100000</td>\n",
       "      <td>0.000000</td>\n",
       "    </tr>\n",
       "    <tr>\n",
       "      <th>25%</th>\n",
       "      <td>2016.000000</td>\n",
       "      <td>17355.000000</td>\n",
       "      <td>6320.000000</td>\n",
       "      <td>125.000000</td>\n",
       "      <td>45.600000</td>\n",
       "      <td>1.700000</td>\n",
       "    </tr>\n",
       "    <tr>\n",
       "      <th>50%</th>\n",
       "      <td>2018.000000</td>\n",
       "      <td>22299.000000</td>\n",
       "      <td>15371.000000</td>\n",
       "      <td>145.000000</td>\n",
       "      <td>56.500000</td>\n",
       "      <td>2.000000</td>\n",
       "    </tr>\n",
       "    <tr>\n",
       "      <th>75%</th>\n",
       "      <td>2019.000000</td>\n",
       "      <td>28706.000000</td>\n",
       "      <td>31986.500000</td>\n",
       "      <td>145.000000</td>\n",
       "      <td>64.200000</td>\n",
       "      <td>2.100000</td>\n",
       "    </tr>\n",
       "    <tr>\n",
       "      <th>max</th>\n",
       "      <td>2020.000000</td>\n",
       "      <td>65990.000000</td>\n",
       "      <td>259000.000000</td>\n",
       "      <td>580.000000</td>\n",
       "      <td>217.300000</td>\n",
       "      <td>6.200000</td>\n",
       "    </tr>\n",
       "  </tbody>\n",
       "</table>\n",
       "</div>"
      ],
      "text/plain": [
       "               year         price        mileage           tax           mpg  \\\n",
       "count  12987.000000  12987.000000   12987.000000  12987.000000  12987.000000   \n",
       "mean    2017.285516  24074.855779   22133.367367    129.676215     55.438392   \n",
       "std        2.189633   9866.601115   21197.472376     65.167429     15.025902   \n",
       "min     1997.000000    650.000000       1.000000      0.000000      1.100000   \n",
       "25%     2016.000000  17355.000000    6320.000000    125.000000     45.600000   \n",
       "50%     2018.000000  22299.000000   15371.000000    145.000000     56.500000   \n",
       "75%     2019.000000  28706.000000   31986.500000    145.000000     64.200000   \n",
       "max     2020.000000  65990.000000  259000.000000    580.000000    217.300000   \n",
       "\n",
       "         engineSize  \n",
       "count  12987.000000  \n",
       "mean       2.051059  \n",
       "std        0.532313  \n",
       "min        0.000000  \n",
       "25%        1.700000  \n",
       "50%        2.000000  \n",
       "75%        2.100000  \n",
       "max        6.200000  "
      ]
     },
     "execution_count": 46,
     "metadata": {},
     "output_type": "execute_result"
    }
   ],
   "source": [
    "dataFrame.describe()"
   ]
  },
  {
   "cell_type": "code",
   "execution_count": 47,
   "metadata": {},
   "outputs": [
    {
     "data": {
      "text/plain": [
       "[<matplotlib.lines.Line2D at 0x20d867de0e0>]"
      ]
     },
     "execution_count": 47,
     "metadata": {},
     "output_type": "execute_result"
    },
    {
     "data": {
      "image/png": "[encoded data removed]",
      "text/plain": [
       "<Figure size 640x480 with 1 Axes>"
      ]
     },
     "metadata": {},
     "output_type": "display_data"
    }
   ],
   "source": [
    "plt.scatter(y_test,tahminDisizi)\n",
    "plt.plot(y_test,y_test,\"g-*\") #to get the straight line"
   ]
  },
  {
   "cell_type": "code",
   "execution_count": 48,
   "metadata": {},
   "outputs": [
    {
     "data": {
      "text/plain": [
       "year           2020.0\n",
       "price         65980.0\n",
       "mileage        3999.0\n",
       "tax             145.0\n",
       "mpg              28.0\n",
       "engineSize        4.0\n",
       "Name: 3191, dtype: float64"
      ]
     },
     "execution_count": 48,
     "metadata": {},
     "output_type": "execute_result"
    }
   ],
   "source": [
    "#let's put another data and try\n",
    "dataFrame.iloc[2]#3.brings the element"
   ]
  },
  {
   "cell_type": "code",
   "execution_count": 49,
   "metadata": {},
   "outputs": [],
   "source": [
    "yeniArabaSeries = dataFrame.drop(\"price\",axis=1).iloc[2]"
   ]
  },
  {
   "cell_type": "code",
   "execution_count": 50,
   "metadata": {},
   "outputs": [
    {
     "data": {
      "text/plain": [
       "year          2020.0\n",
       "mileage       3999.0\n",
       "tax            145.0\n",
       "mpg             28.0\n",
       "engineSize       4.0\n",
       "Name: 3191, dtype: float64"
      ]
     },
     "execution_count": 50,
     "metadata": {},
     "output_type": "execute_result"
    }
   ],
   "source": [
    "yeniArabaSeries"
   ]
  },
  {
   "cell_type": "code",
   "execution_count": 51,
   "metadata": {},
   "outputs": [
    {
     "data": {
      "text/plain": [
       "pandas.core.series.Series"
      ]
     },
     "execution_count": 51,
     "metadata": {},
     "output_type": "execute_result"
    }
   ],
   "source": [
    "type(yeniArabaSeries) #we need to convert it to numpy series"
   ]
  },
  {
   "cell_type": "code",
   "execution_count": 52,
   "metadata": {},
   "outputs": [],
   "source": [
    "\n",
    "\n",
    "yeniArabaSeries = scaler.transform(yeniArabaSeries.values.reshape(-1,5))\n",
    "\n"
   ]
  },
  {
   "cell_type": "code",
   "execution_count": 53,
   "metadata": {},
   "outputs": [
    {
     "name": "stdout",
     "output_type": "stream",
     "text": [
      "1/1 [==============================] - 0s 49ms/step\n"
     ]
    },
    {
     "data": {
      "text/plain": [
       "array([[57876.5]], dtype=float32)"
      ]
     },
     "execution_count": 53,
     "metadata": {},
     "output_type": "execute_result"
    }
   ],
   "source": [
    "\n",
    "\n",
    "model.predict(yeniArabaSeries)\n",
    "\n"
   ]
  }
 ],
 "metadata": {
  "kernelspec": {
   "display_name": "Python 3",
   "language": "python",
   "name": "python3"
  },
  "language_info": {
   "codemirror_mode": {
    "name": "ipython",
    "version": 3
   },
   "file_extension": ".py",
   "mimetype": "text/x-python",
   "name": "python",
   "nbconvert_exporter": "python",
   "pygments_lexer": "ipython3",
   "version": "3.10.7"
  },
  "orig_nbformat": 4
 },
 "nbformat": 4,
 "nbformat_minor": 2
}
